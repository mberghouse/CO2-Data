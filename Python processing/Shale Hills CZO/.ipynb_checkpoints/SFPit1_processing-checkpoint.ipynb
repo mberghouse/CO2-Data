{
 "cells": [
  {
   "cell_type": "code",
   "execution_count": 1,
   "metadata": {},
   "outputs": [
    {
     "data": {
      "text/plain": [
       "'C:\\\\Users\\\\marcb\\\\Desktop'"
      ]
     },
     "execution_count": 1,
     "metadata": {},
     "output_type": "execute_result"
    }
   ],
   "source": [
    "import os\n",
    "os.chdir('/Users/marcb/Desktop')\n",
    "os.getcwd()"
   ]
  },
  {
   "cell_type": "code",
   "execution_count": 11,
   "metadata": {},
   "outputs": [],
   "source": [
    "%matplotlib inline\n",
    "\n",
    "import matplotlib.pyplot as plt\n",
    "import numpy as np\n",
    "import pandas as pd\n",
    "import datetime as dt\n",
    "infile1 = \"CO2 Data/raw_data/Seca Floresta/Pit 1/Seca_Floresta.csv\" \n",
    "df = pd.read_csv(infile1, na_values='NAN', skiprows=15, parse_dates=[0], index_col=0) \n"
   ]
  },
  {
   "cell_type": "code",
   "execution_count": 13,
   "metadata": {},
   "outputs": [],
   "source": [
    "df=df.loc[df['Pit number'] == 1] \n",
    "df=df.drop(columns='Treatment')"
   ]
  },
  {
   "cell_type": "code",
   "execution_count": 14,
   "metadata": {},
   "outputs": [
    {
     "data": {
      "text/html": [
       "<div>\n",
       "<style scoped>\n",
       "    .dataframe tbody tr th:only-of-type {\n",
       "        vertical-align: middle;\n",
       "    }\n",
       "\n",
       "    .dataframe tbody tr th {\n",
       "        vertical-align: top;\n",
       "    }\n",
       "\n",
       "    .dataframe thead th {\n",
       "        text-align: right;\n",
       "    }\n",
       "</style>\n",
       "<table border=\"1\" class=\"dataframe\">\n",
       "  <thead>\n",
       "    <tr style=\"text-align: right;\">\n",
       "      <th></th>\n",
       "      <th>Pit number</th>\n",
       "      <th>Depth</th>\n",
       "      <th>VWC</th>\n",
       "      <th>conc_CO2</th>\n",
       "      <th>conc_N2O</th>\n",
       "    </tr>\n",
       "    <tr>\n",
       "      <th>Date</th>\n",
       "      <th></th>\n",
       "      <th></th>\n",
       "      <th></th>\n",
       "      <th></th>\n",
       "      <th></th>\n",
       "    </tr>\n",
       "  </thead>\n",
       "  <tbody>\n",
       "    <tr>\n",
       "      <th>1999-12-09</th>\n",
       "      <td>1</td>\n",
       "      <td>10</td>\n",
       "      <td>NaN</td>\n",
       "      <td>0.74</td>\n",
       "      <td>0.70</td>\n",
       "    </tr>\n",
       "    <tr>\n",
       "      <th>1999-12-09</th>\n",
       "      <td>1</td>\n",
       "      <td>25</td>\n",
       "      <td>NaN</td>\n",
       "      <td>1.49</td>\n",
       "      <td>1.29</td>\n",
       "    </tr>\n",
       "    <tr>\n",
       "      <th>1999-12-09</th>\n",
       "      <td>1</td>\n",
       "      <td>30</td>\n",
       "      <td>0.337</td>\n",
       "      <td>NaN</td>\n",
       "      <td>NaN</td>\n",
       "    </tr>\n",
       "    <tr>\n",
       "      <th>1999-12-09</th>\n",
       "      <td>1</td>\n",
       "      <td>50</td>\n",
       "      <td>0.217</td>\n",
       "      <td>1.96</td>\n",
       "      <td>1.85</td>\n",
       "    </tr>\n",
       "    <tr>\n",
       "      <th>1999-12-09</th>\n",
       "      <td>1</td>\n",
       "      <td>100</td>\n",
       "      <td>0.212</td>\n",
       "      <td>1.96</td>\n",
       "      <td>0.54</td>\n",
       "    </tr>\n",
       "    <tr>\n",
       "      <th>...</th>\n",
       "      <td>...</td>\n",
       "      <td>...</td>\n",
       "      <td>...</td>\n",
       "      <td>...</td>\n",
       "      <td>...</td>\n",
       "    </tr>\n",
       "    <tr>\n",
       "      <th>2002-06-14</th>\n",
       "      <td>1</td>\n",
       "      <td>700</td>\n",
       "      <td>0.355</td>\n",
       "      <td>1.04</td>\n",
       "      <td>0.38</td>\n",
       "    </tr>\n",
       "    <tr>\n",
       "      <th>2002-06-14</th>\n",
       "      <td>1</td>\n",
       "      <td>800</td>\n",
       "      <td>0.353</td>\n",
       "      <td>NaN</td>\n",
       "      <td>NaN</td>\n",
       "    </tr>\n",
       "    <tr>\n",
       "      <th>2002-06-14</th>\n",
       "      <td>1</td>\n",
       "      <td>900</td>\n",
       "      <td>0.372</td>\n",
       "      <td>NaN</td>\n",
       "      <td>NaN</td>\n",
       "    </tr>\n",
       "    <tr>\n",
       "      <th>2002-06-14</th>\n",
       "      <td>1</td>\n",
       "      <td>1000</td>\n",
       "      <td>0.362</td>\n",
       "      <td>NaN</td>\n",
       "      <td>NaN</td>\n",
       "    </tr>\n",
       "    <tr>\n",
       "      <th>2002-06-14</th>\n",
       "      <td>1</td>\n",
       "      <td>1100</td>\n",
       "      <td>0.362</td>\n",
       "      <td>1.81</td>\n",
       "      <td>0.44</td>\n",
       "    </tr>\n",
       "  </tbody>\n",
       "</table>\n",
       "<p>195 rows × 5 columns</p>\n",
       "</div>"
      ],
      "text/plain": [
       "            Pit number  Depth     VWC  conc_CO2  conc_N2O \n",
       "Date                                                      \n",
       "1999-12-09           1      10    NaN      0.74       0.70\n",
       "1999-12-09           1      25    NaN      1.49       1.29\n",
       "1999-12-09           1      30  0.337       NaN        NaN\n",
       "1999-12-09           1      50  0.217      1.96       1.85\n",
       "1999-12-09           1     100  0.212      1.96       0.54\n",
       "...                ...     ...    ...       ...        ...\n",
       "2002-06-14           1     700  0.355      1.04       0.38\n",
       "2002-06-14           1     800  0.353       NaN        NaN\n",
       "2002-06-14           1     900  0.372       NaN        NaN\n",
       "2002-06-14           1    1000  0.362       NaN        NaN\n",
       "2002-06-14           1    1100  0.362      1.81       0.44\n",
       "\n",
       "[195 rows x 5 columns]"
      ]
     },
     "execution_count": 14,
     "metadata": {},
     "output_type": "execute_result"
    }
   ],
   "source": [
    "df.mask(df<=-0.01, inplace=True)\n",
    "df"
   ]
  },
  {
   "cell_type": "code",
   "execution_count": null,
   "metadata": {},
   "outputs": [],
   "source": []
  }
 ],
 "metadata": {
  "kernelspec": {
   "display_name": "Python 3",
   "language": "python",
   "name": "python3"
  },
  "language_info": {
   "codemirror_mode": {
    "name": "ipython",
    "version": 3
   },
   "file_extension": ".py",
   "mimetype": "text/x-python",
   "name": "python",
   "nbconvert_exporter": "python",
   "pygments_lexer": "ipython3",
   "version": "3.8.3"
  }
 },
 "nbformat": 4,
 "nbformat_minor": 4
}
