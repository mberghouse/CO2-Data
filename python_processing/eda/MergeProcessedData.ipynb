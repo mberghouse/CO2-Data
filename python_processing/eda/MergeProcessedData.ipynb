{
 "cells": [
  {
   "cell_type": "markdown",
   "metadata": {},
   "source": [
    "## To do list:\n",
    "\n",
    "* Figure out how to run standardized model on original dataset\n",
    "* Shale Hills pits are converted to nan, which seems to be due to the fact that there is no soil moisture or Bulk EC data. We may need to run another model without soil moisture and bulk EC if we want to include Shale Hills.\n",
    "* Should we include site and pit in the PCA?\n",
    "* Add a column for season\n",
    "* Add a date column?\n"
   ]
  },
  {
   "cell_type": "code",
   "execution_count": 1,
   "metadata": {},
   "outputs": [],
   "source": [
    "import pandas as pd\n",
    "import matplotlib.pyplot as plt\n",
    "import numpy as np\n",
    "import os\n",
    "\n",
    "# sites is a list of locations (e.g., \"Calhoun\"),\n",
    "# all_pits is a dict with sites as keys, and lists of pits \n",
    "# at each site as the values\n",
    "all_pits = {}\n",
    "sites = os.listdir('../../processed_data')\n",
    "\n",
    "# Loop through all sites to construct dict of sites/pits\n",
    "for site in sites:\n",
    "    cur_pits = []\n",
    "    for pro_file in os.listdir(os.path.join('../../processed_data/', site)):\n",
    "        cur_pits.append(pro_file.split('_')[0])\n",
    "        \n",
    "    all_pits[site] = cur_pits\n",
    "\n",
    "# Data will be a dict with pits as keys, np arrays as values\n",
    "data = {}\n",
    "# This is a list of all the features for R1C1. We'll want to make this an exhaustive \n",
    "# list of all potential features across all pits\n",
    "features = ['CO2', 'timestamp', 'precip', 'SoilMoisture', 'BulkEC', 'Temp', 'O2', \n",
    "            'WaterPotential', 'ReductionPotential', 'Pit', 'Depth', 'Site', 'Season']\n",
    "m = len(features)\n",
    "\n",
    "# Define site and pit number indices\n",
    "site_nos = {'Calhoun': 0, 'Shale_Hills': 1, \n",
    "            'Catalina-Jemez': 2, 'Seca_Floresta': 3}\n",
    "pit_nos = {}\n",
    "i = 0\n",
    "for site, pits in all_pits.items():\n",
    "    for pit in pits:\n",
    "        pit_nos[pit] = i\n",
    "        i += 1\n",
    "        \n",
    "# Remove pits with manual samples\n",
    "del all_pits['Seca_Floresta']\n",
    "all_pits['Calhoun'].remove('R1C2')\n",
    "all_pits['Shale_Hills'].remove('SPMS')"
   ]
  },
  {
   "cell_type": "code",
   "execution_count": 2,
   "metadata": {},
   "outputs": [
    {
     "name": "stdout",
     "output_type": "stream",
     "text": [
      "Calhoun R1C1 -- 28388\n",
      "Calhoun R1H1 -- 28394\n",
      "Calhoun R1P1 -- 28393\n",
      "Catalina-Jemez BGZOB1 -- 27277\n",
      "Catalina-Jemez BGZOB2 -- 27302\n",
      "Catalina-Jemez BGZOB3 -- 27297\n",
      "Catalina-Jemez BGZOB4 -- 27275\n",
      "Catalina-Jemez Green1 -- 27976\n",
      "Catalina-Jemez Green2 -- 6995\n",
      "Catalina-Jemez Green3 -- 27975\n",
      "Catalina-Jemez MC1 -- 72374\n",
      "Catalina-Jemez MC2 -- 72658\n",
      "Catalina-Jemez MC3 -- 72539\n",
      "Catalina-Jemez MC4 -- 72540\n",
      "Catalina-Jemez MC5 -- 71698\n",
      "Catalina-Jemez MC6 -- 72539\n",
      "Shale_Hills LRMS -- 14137\n",
      "Shale_Hills NPMS -- 34448\n",
      "Shale_Hills SPVF -- 2999\n",
      "Shale_Hills TMMS -- 35403\n",
      "778607\n"
     ]
    }
   ],
   "source": [
    "total_count = 0\n",
    "for site in all_pits.keys():\n",
    "    for pit in all_pits[site]:\n",
    "        infile=os.path.join('../../processed_data', site, '%s_processed.csv' % pit)\n",
    "        with open(infile) as f:\n",
    "            for i, l in enumerate(f):\n",
    "                pass\n",
    "        nlines = i + 1\n",
    "        total_count += nlines\n",
    "        print(site, pit, '--', nlines)\n",
    "print(total_count)"
   ]
  },
  {
   "cell_type": "code",
   "execution_count": 3,
   "metadata": {},
   "outputs": [],
   "source": [
    "# Load in and merge all files\n",
    "for site in all_pits.keys():\n",
    "    for pit in all_pits[site]:\n",
    "        infile=os.path.join('../../processed_data', site, '%s_processed.csv' % pit)\n",
    "        df = pd.read_csv(infile, parse_dates=[0], na_values=[-99999])\n",
    "\n",
    "        # Remove records without any CO2 data\n",
    "        co2_cols = [col for col in df.columns if 'CO2' in col]\n",
    "        df = df[~df.loc[:, co2_cols].isna().all(axis=1)]\n",
    "        \n",
    "        depths = []\n",
    "        for col in df.columns:\n",
    "            if ('precip' not in col) and ('DateTime' not in col):\n",
    "                depths.append(col.split('_')[1].split('cm')[0])\n",
    "        unique_depths = list(set(depths))\n",
    "\n",
    "        # t is the number of time steps\n",
    "        t = df.shape[0]\n",
    "\n",
    "        # data shape is the # of observations (# time points * depths), # features\n",
    "        cur_data = np.empty((t*len(unique_depths), m))\n",
    "        cur_data[:] = np.nan\n",
    "\n",
    "        for i, depth in enumerate(unique_depths):\n",
    "            depth_cols = [col for col in df.columns if '_%scm' % depth in col]\n",
    "            for j, feature in enumerate(features):\n",
    "                # Look for columns with this feature and depth in the name\n",
    "                if feature == 'precip':\n",
    "                    col = 'PRISM_precip.mm'\n",
    "                elif feature == 'timestamp':\n",
    "                    col = [col for col in df.columns if 'DateTime' in col]\n",
    "                    col = col[0]\n",
    "                elif feature == 'Season':\n",
    "                    col = [col for col in df.columns if 'DateTime' in col]\n",
    "                    df['quarter'] = df[col[0]].dt.quarter\n",
    "                    col = 'quarter'\n",
    "                else:\n",
    "                    matches = [col for col in depth_cols if feature in col]\n",
    "\n",
    "                    # Correct for fact that \"O2\" search returns \"CO2\" as well\n",
    "                    if feature == 'O2':\n",
    "                        matches = [col for col in matches if 'CO2' not in col]\n",
    "\n",
    "                    if len(matches) > 1:\n",
    "                        raise ValueError(\"\"\"More than one possible match found for \n",
    "                        %s %s %scm %s\"\"\" %(site, pit, depth, feature))\n",
    "                    elif len(matches) == 1:\n",
    "                        col = matches[0]\n",
    "                    else:\n",
    "                        col = \"\"\n",
    "                        continue\n",
    "    \n",
    "                # Now that we have the column name, add this subset to cur_data\n",
    "                cur_data[i*t:(i+1)*t, j] = df[col].values\n",
    "\n",
    "            # Add in depth\n",
    "            cur_data[i*t:(i+1)*t, features.index('Depth')] = depth\n",
    "        \n",
    "        # Add in pit and site indices\n",
    "        cur_data[:, features.index('Pit')] = pit_nos[pit]\n",
    "        cur_data[:, features.index('Site')] = site_nos[site]\n",
    "        \n",
    "        # Copy current data to dict of all data\n",
    "        data[pit] = cur_data.copy()"
   ]
  },
  {
   "cell_type": "code",
   "execution_count": 4,
   "metadata": {},
   "outputs": [
    {
     "name": "stdout",
     "output_type": "stream",
     "text": [
      "Removed 115,759 rows without CO2 data\n"
     ]
    }
   ],
   "source": [
    "# Merge all data into a single numpy array\n",
    "for i, (pit, array) in enumerate(data.items()):\n",
    "    if i == 0:\n",
    "        merged = array.copy()\n",
    "    else:\n",
    "        merged = np.append(merged, array, axis=0)\n",
    "\n",
    "# Remove rows without any CO2 data\n",
    "all_rows, _ = merged.shape\n",
    "merged = merged[~np.isnan(merged[:, 0]), :]\n",
    "trimmed = all_rows - merged.shape[0]\n",
    "print(f'Removed {trimmed:,} rows without CO2 data')\n",
    "\n",
    "df = pd.DataFrame(data=merged, columns=features)"
   ]
  },
  {
   "cell_type": "code",
   "execution_count": 5,
   "metadata": {},
   "outputs": [
    {
     "name": "stdout",
     "output_type": "stream",
     "text": [
      "[  2.  10.  20.  30.  50.  60.  70.  80. 100. 140. 150.]\n"
     ]
    }
   ],
   "source": [
    "print(np.unique(df['Depth'].values))"
   ]
  },
  {
   "cell_type": "code",
   "execution_count": 4,
   "metadata": {},
   "outputs": [],
   "source": [
    "outfile = '../../merged_processed_data/MergeProcessedData.csv'\n",
    "np.savetxt(outfile, merged, fmt='%.4f', delimiter=\",\")\n"
   ]
  },
  {
   "cell_type": "code",
   "execution_count": 5,
   "metadata": {},
   "outputs": [],
   "source": [
    "from sklearn.decomposition import PCA\n",
    "from sklearn.preprocessing import StandardScaler\n"
   ]
  },
  {
   "cell_type": "code",
   "execution_count": 6,
   "metadata": {},
   "outputs": [
    {
     "data": {
      "text/html": [
       "<div>\n",
       "<style scoped>\n",
       "    .dataframe tbody tr th:only-of-type {\n",
       "        vertical-align: middle;\n",
       "    }\n",
       "\n",
       "    .dataframe tbody tr th {\n",
       "        vertical-align: top;\n",
       "    }\n",
       "\n",
       "    .dataframe thead th {\n",
       "        text-align: right;\n",
       "    }\n",
       "</style>\n",
       "<table border=\"1\" class=\"dataframe\">\n",
       "  <thead>\n",
       "    <tr style=\"text-align: right;\">\n",
       "      <th></th>\n",
       "      <th>CO2</th>\n",
       "      <th>precip</th>\n",
       "      <th>SoilMoisture</th>\n",
       "      <th>BulkEC</th>\n",
       "      <th>Temp</th>\n",
       "      <th>O2</th>\n",
       "      <th>Depth</th>\n",
       "      <th>Site</th>\n",
       "    </tr>\n",
       "  </thead>\n",
       "  <tbody>\n",
       "    <tr>\n",
       "      <th>129166</th>\n",
       "      <td>1453.41075</td>\n",
       "      <td>0.00</td>\n",
       "      <td>0.055333</td>\n",
       "      <td>0.000000</td>\n",
       "      <td>7.68475</td>\n",
       "      <td>21.36250</td>\n",
       "      <td>10.0</td>\n",
       "      <td>2.0</td>\n",
       "    </tr>\n",
       "    <tr>\n",
       "      <th>129167</th>\n",
       "      <td>1476.43275</td>\n",
       "      <td>0.85</td>\n",
       "      <td>0.052750</td>\n",
       "      <td>0.000000</td>\n",
       "      <td>7.94825</td>\n",
       "      <td>21.32250</td>\n",
       "      <td>10.0</td>\n",
       "      <td>2.0</td>\n",
       "    </tr>\n",
       "    <tr>\n",
       "      <th>129168</th>\n",
       "      <td>1489.56425</td>\n",
       "      <td>0.85</td>\n",
       "      <td>0.066250</td>\n",
       "      <td>0.000000</td>\n",
       "      <td>8.19700</td>\n",
       "      <td>21.30325</td>\n",
       "      <td>10.0</td>\n",
       "      <td>2.0</td>\n",
       "    </tr>\n",
       "    <tr>\n",
       "      <th>129169</th>\n",
       "      <td>1506.36675</td>\n",
       "      <td>0.85</td>\n",
       "      <td>0.075000</td>\n",
       "      <td>0.005000</td>\n",
       "      <td>8.34700</td>\n",
       "      <td>21.29675</td>\n",
       "      <td>10.0</td>\n",
       "      <td>2.0</td>\n",
       "    </tr>\n",
       "    <tr>\n",
       "      <th>129170</th>\n",
       "      <td>1510.89750</td>\n",
       "      <td>0.85</td>\n",
       "      <td>0.075000</td>\n",
       "      <td>0.000000</td>\n",
       "      <td>8.24200</td>\n",
       "      <td>21.30625</td>\n",
       "      <td>10.0</td>\n",
       "      <td>2.0</td>\n",
       "    </tr>\n",
       "    <tr>\n",
       "      <th>...</th>\n",
       "      <td>...</td>\n",
       "      <td>...</td>\n",
       "      <td>...</td>\n",
       "      <td>...</td>\n",
       "      <td>...</td>\n",
       "      <td>...</td>\n",
       "      <td>...</td>\n",
       "      <td>...</td>\n",
       "    </tr>\n",
       "    <tr>\n",
       "      <th>1393070</th>\n",
       "      <td>625.05675</td>\n",
       "      <td>0.00</td>\n",
       "      <td>0.098000</td>\n",
       "      <td>0.008333</td>\n",
       "      <td>0.70850</td>\n",
       "      <td>13.77800</td>\n",
       "      <td>10.0</td>\n",
       "      <td>2.0</td>\n",
       "    </tr>\n",
       "    <tr>\n",
       "      <th>1393071</th>\n",
       "      <td>620.41800</td>\n",
       "      <td>0.00</td>\n",
       "      <td>0.098000</td>\n",
       "      <td>0.010000</td>\n",
       "      <td>0.68825</td>\n",
       "      <td>13.77775</td>\n",
       "      <td>10.0</td>\n",
       "      <td>2.0</td>\n",
       "    </tr>\n",
       "    <tr>\n",
       "      <th>1393072</th>\n",
       "      <td>611.34600</td>\n",
       "      <td>0.00</td>\n",
       "      <td>0.098000</td>\n",
       "      <td>0.010000</td>\n",
       "      <td>0.63875</td>\n",
       "      <td>13.78050</td>\n",
       "      <td>10.0</td>\n",
       "      <td>2.0</td>\n",
       "    </tr>\n",
       "    <tr>\n",
       "      <th>1393073</th>\n",
       "      <td>607.84425</td>\n",
       "      <td>0.00</td>\n",
       "      <td>0.098000</td>\n",
       "      <td>0.010000</td>\n",
       "      <td>0.60550</td>\n",
       "      <td>13.77400</td>\n",
       "      <td>10.0</td>\n",
       "      <td>2.0</td>\n",
       "    </tr>\n",
       "    <tr>\n",
       "      <th>1393074</th>\n",
       "      <td>604.77475</td>\n",
       "      <td>0.00</td>\n",
       "      <td>0.097833</td>\n",
       "      <td>0.010000</td>\n",
       "      <td>0.60225</td>\n",
       "      <td>13.77425</td>\n",
       "      <td>10.0</td>\n",
       "      <td>2.0</td>\n",
       "    </tr>\n",
       "  </tbody>\n",
       "</table>\n",
       "<p>242449 rows × 8 columns</p>\n",
       "</div>"
      ],
      "text/plain": [
       "                CO2  precip  SoilMoisture    BulkEC     Temp        O2  Depth  \\\n",
       "129166   1453.41075    0.00      0.055333  0.000000  7.68475  21.36250   10.0   \n",
       "129167   1476.43275    0.85      0.052750  0.000000  7.94825  21.32250   10.0   \n",
       "129168   1489.56425    0.85      0.066250  0.000000  8.19700  21.30325   10.0   \n",
       "129169   1506.36675    0.85      0.075000  0.005000  8.34700  21.29675   10.0   \n",
       "129170   1510.89750    0.85      0.075000  0.000000  8.24200  21.30625   10.0   \n",
       "...             ...     ...           ...       ...      ...       ...    ...   \n",
       "1393070   625.05675    0.00      0.098000  0.008333  0.70850  13.77800   10.0   \n",
       "1393071   620.41800    0.00      0.098000  0.010000  0.68825  13.77775   10.0   \n",
       "1393072   611.34600    0.00      0.098000  0.010000  0.63875  13.78050   10.0   \n",
       "1393073   607.84425    0.00      0.098000  0.010000  0.60550  13.77400   10.0   \n",
       "1393074   604.77475    0.00      0.097833  0.010000  0.60225  13.77425   10.0   \n",
       "\n",
       "         Site  \n",
       "129166    2.0  \n",
       "129167    2.0  \n",
       "129168    2.0  \n",
       "129169    2.0  \n",
       "129170    2.0  \n",
       "...       ...  \n",
       "1393070   2.0  \n",
       "1393071   2.0  \n",
       "1393072   2.0  \n",
       "1393073   2.0  \n",
       "1393074   2.0  \n",
       "\n",
       "[242449 rows x 8 columns]"
      ]
     },
     "execution_count": 6,
     "metadata": {},
     "output_type": "execute_result"
    }
   ],
   "source": [
    "df.drop(columns=['WaterPotential', 'ReductionPotential', 'Pit', 'timestamp'], \n",
    "        inplace=True)\n",
    "\n",
    "df=df.dropna()\n",
    "df"
   ]
  },
  {
   "cell_type": "code",
   "execution_count": 50,
   "metadata": {},
   "outputs": [
    {
     "data": {
      "text/html": [
       "<div>\n",
       "<style scoped>\n",
       "    .dataframe tbody tr th:only-of-type {\n",
       "        vertical-align: middle;\n",
       "    }\n",
       "\n",
       "    .dataframe tbody tr th {\n",
       "        vertical-align: top;\n",
       "    }\n",
       "\n",
       "    .dataframe thead th {\n",
       "        text-align: right;\n",
       "    }\n",
       "</style>\n",
       "<table border=\"1\" class=\"dataframe\">\n",
       "  <thead>\n",
       "    <tr style=\"text-align: right;\">\n",
       "      <th></th>\n",
       "      <th>0</th>\n",
       "      <th>1</th>\n",
       "      <th>2</th>\n",
       "      <th>3</th>\n",
       "      <th>4</th>\n",
       "      <th>5</th>\n",
       "      <th>6</th>\n",
       "      <th>7</th>\n",
       "    </tr>\n",
       "  </thead>\n",
       "  <tbody>\n",
       "    <tr>\n",
       "      <th>0</th>\n",
       "      <td>2.303436</td>\n",
       "      <td>-0.372144</td>\n",
       "      <td>1.905608</td>\n",
       "      <td>0.116558</td>\n",
       "      <td>1.420834</td>\n",
       "      <td>0.841439</td>\n",
       "      <td>0.401412</td>\n",
       "      <td>-5.223239</td>\n",
       "    </tr>\n",
       "    <tr>\n",
       "      <th>1</th>\n",
       "      <td>2.369751</td>\n",
       "      <td>-0.372144</td>\n",
       "      <td>1.905608</td>\n",
       "      <td>0.116558</td>\n",
       "      <td>1.432677</td>\n",
       "      <td>0.842562</td>\n",
       "      <td>0.401412</td>\n",
       "      <td>-5.223239</td>\n",
       "    </tr>\n",
       "    <tr>\n",
       "      <th>2</th>\n",
       "      <td>2.438617</td>\n",
       "      <td>-0.372144</td>\n",
       "      <td>1.905608</td>\n",
       "      <td>0.116558</td>\n",
       "      <td>1.444520</td>\n",
       "      <td>0.843685</td>\n",
       "      <td>0.401412</td>\n",
       "      <td>-5.223239</td>\n",
       "    </tr>\n",
       "    <tr>\n",
       "      <th>3</th>\n",
       "      <td>2.493455</td>\n",
       "      <td>-0.372144</td>\n",
       "      <td>1.905608</td>\n",
       "      <td>0.116558</td>\n",
       "      <td>1.454542</td>\n",
       "      <td>0.844635</td>\n",
       "      <td>0.401412</td>\n",
       "      <td>-5.223239</td>\n",
       "    </tr>\n",
       "    <tr>\n",
       "      <th>4</th>\n",
       "      <td>2.544466</td>\n",
       "      <td>-0.372144</td>\n",
       "      <td>1.905608</td>\n",
       "      <td>0.116558</td>\n",
       "      <td>1.463652</td>\n",
       "      <td>0.845499</td>\n",
       "      <td>0.401412</td>\n",
       "      <td>-5.223239</td>\n",
       "    </tr>\n",
       "    <tr>\n",
       "      <th>...</th>\n",
       "      <td>...</td>\n",
       "      <td>...</td>\n",
       "      <td>...</td>\n",
       "      <td>...</td>\n",
       "      <td>...</td>\n",
       "      <td>...</td>\n",
       "      <td>...</td>\n",
       "      <td>...</td>\n",
       "    </tr>\n",
       "    <tr>\n",
       "      <th>758298</th>\n",
       "      <td>3.250688</td>\n",
       "      <td>-0.372144</td>\n",
       "      <td>0.129595</td>\n",
       "      <td>1.805887</td>\n",
       "      <td>0.937570</td>\n",
       "      <td>-1.008125</td>\n",
       "      <td>0.779653</td>\n",
       "      <td>0.191452</td>\n",
       "    </tr>\n",
       "    <tr>\n",
       "      <th>758299</th>\n",
       "      <td>3.218468</td>\n",
       "      <td>-0.372144</td>\n",
       "      <td>0.121805</td>\n",
       "      <td>1.768010</td>\n",
       "      <td>0.938467</td>\n",
       "      <td>-1.020290</td>\n",
       "      <td>0.779653</td>\n",
       "      <td>0.191452</td>\n",
       "    </tr>\n",
       "    <tr>\n",
       "      <th>758300</th>\n",
       "      <td>3.190756</td>\n",
       "      <td>-0.372144</td>\n",
       "      <td>0.123753</td>\n",
       "      <td>1.730133</td>\n",
       "      <td>0.934684</td>\n",
       "      <td>-1.041677</td>\n",
       "      <td>0.779653</td>\n",
       "      <td>0.191452</td>\n",
       "    </tr>\n",
       "    <tr>\n",
       "      <th>758301</th>\n",
       "      <td>3.164809</td>\n",
       "      <td>-0.372144</td>\n",
       "      <td>0.075847</td>\n",
       "      <td>1.768010</td>\n",
       "      <td>0.930865</td>\n",
       "      <td>-1.075321</td>\n",
       "      <td>0.779653</td>\n",
       "      <td>0.191452</td>\n",
       "    </tr>\n",
       "    <tr>\n",
       "      <th>758302</th>\n",
       "      <td>-0.380551</td>\n",
       "      <td>1.116118</td>\n",
       "      <td>-0.971650</td>\n",
       "      <td>1.843765</td>\n",
       "      <td>-0.461744</td>\n",
       "      <td>-0.671856</td>\n",
       "      <td>0.779653</td>\n",
       "      <td>0.191452</td>\n",
       "    </tr>\n",
       "  </tbody>\n",
       "</table>\n",
       "<p>758303 rows × 8 columns</p>\n",
       "</div>"
      ],
      "text/plain": [
       "               0         1         2         3         4         5         6  \\\n",
       "0       2.303436 -0.372144  1.905608  0.116558  1.420834  0.841439  0.401412   \n",
       "1       2.369751 -0.372144  1.905608  0.116558  1.432677  0.842562  0.401412   \n",
       "2       2.438617 -0.372144  1.905608  0.116558  1.444520  0.843685  0.401412   \n",
       "3       2.493455 -0.372144  1.905608  0.116558  1.454542  0.844635  0.401412   \n",
       "4       2.544466 -0.372144  1.905608  0.116558  1.463652  0.845499  0.401412   \n",
       "...          ...       ...       ...       ...       ...       ...       ...   \n",
       "758298  3.250688 -0.372144  0.129595  1.805887  0.937570 -1.008125  0.779653   \n",
       "758299  3.218468 -0.372144  0.121805  1.768010  0.938467 -1.020290  0.779653   \n",
       "758300  3.190756 -0.372144  0.123753  1.730133  0.934684 -1.041677  0.779653   \n",
       "758301  3.164809 -0.372144  0.075847  1.768010  0.930865 -1.075321  0.779653   \n",
       "758302 -0.380551  1.116118 -0.971650  1.843765 -0.461744 -0.671856  0.779653   \n",
       "\n",
       "               7  \n",
       "0      -5.223239  \n",
       "1      -5.223239  \n",
       "2      -5.223239  \n",
       "3      -5.223239  \n",
       "4      -5.223239  \n",
       "...          ...  \n",
       "758298  0.191452  \n",
       "758299  0.191452  \n",
       "758300  0.191452  \n",
       "758301  0.191452  \n",
       "758302  0.191452  \n",
       "\n",
       "[758303 rows x 8 columns]"
      ]
     },
     "execution_count": 50,
     "metadata": {},
     "output_type": "execute_result"
    }
   ],
   "source": [
    "df['new_index']=list(range(0, 758303))\n",
    "df_reindex=df.set_index('new_index')\n",
    "df=df.drop(columns='new_index')\n",
    "#df_reindex=df_reindex.drop(columns='Site')\n",
    "\n",
    "df_st =  StandardScaler().fit_transform(df_reindex) \n",
    "df_st1=pd.DataFrame(data=df_st)\n",
    "#df_med=df_st1.fillna(df_st1.median())\n",
    "df_st1"
   ]
  },
  {
   "cell_type": "code",
   "execution_count": 22,
   "metadata": {},
   "outputs": [],
   "source": [
    "#df_st1=pd.DataFrame(data=df_st)\n",
    "#df_med = df_st1.fillna(df_st1.median())\n",
    "#pca = PCA(.95)\n",
    "#pca.fit(X_train)\n",
    "#X_train = pca.transform(X_train)\n",
    "#X_test = pca.transform(X_test)"
   ]
  },
  {
   "cell_type": "code",
   "execution_count": 51,
   "metadata": {},
   "outputs": [
    {
     "data": {
      "text/plain": [
       "758297"
      ]
     },
     "execution_count": 51,
     "metadata": {},
     "output_type": "execute_result"
    }
   ],
   "source": [
    "pca = PCA(.95)\n",
    "pca.fit(df_st)\n",
    "df_st_transform = pca.transform(df_st)\n",
    "df_st_transform\n",
    "df_st=df_st[df_st_transform[:,0]<=12]\n",
    "pca = PCA(.95)\n",
    "pca.fit(df_st)\n",
    "df_st_transform = pca.transform(df_st)\n",
    "len(df_st[:,0])"
   ]
  },
  {
   "cell_type": "code",
   "execution_count": 52,
   "metadata": {},
   "outputs": [
    {
     "data": {
      "text/plain": [
       "array([0.24093615, 0.23832208, 0.12740493, 0.12211238, 0.09096434,\n",
       "       0.07280505, 0.06556726])"
      ]
     },
     "execution_count": 52,
     "metadata": {},
     "output_type": "execute_result"
    }
   ],
   "source": [
    "#pca_scores = PCA().fit_transform(df_st)\n",
    "\n",
    "#df_st\n",
    "#df_pca=pd.DataFrame(data=pca_scores)\n",
    "#df_pca.columns=['CO2', 'Precip','Soil Moisture', 'Bulk EC', 'Temp', 'O2', 'Pit', 'Depth']\n",
    "pca.explained_variance_ratio_\n"
   ]
  },
  {
   "cell_type": "code",
   "execution_count": 53,
   "metadata": {},
   "outputs": [
    {
     "data": {
      "text/html": [
       "<div>\n",
       "<style scoped>\n",
       "    .dataframe tbody tr th:only-of-type {\n",
       "        vertical-align: middle;\n",
       "    }\n",
       "\n",
       "    .dataframe tbody tr th {\n",
       "        vertical-align: top;\n",
       "    }\n",
       "\n",
       "    .dataframe thead th {\n",
       "        text-align: right;\n",
       "    }\n",
       "</style>\n",
       "<table border=\"1\" class=\"dataframe\">\n",
       "  <thead>\n",
       "    <tr style=\"text-align: right;\">\n",
       "      <th></th>\n",
       "      <th>PC1</th>\n",
       "      <th>PC2</th>\n",
       "      <th>PC3</th>\n",
       "      <th>PC4</th>\n",
       "      <th>PC5</th>\n",
       "      <th>PC6</th>\n",
       "      <th>PC7</th>\n",
       "    </tr>\n",
       "    <tr>\n",
       "      <th>variable</th>\n",
       "      <th></th>\n",
       "      <th></th>\n",
       "      <th></th>\n",
       "      <th></th>\n",
       "      <th></th>\n",
       "      <th></th>\n",
       "      <th></th>\n",
       "    </tr>\n",
       "  </thead>\n",
       "  <tbody>\n",
       "    <tr>\n",
       "      <th>CO2</th>\n",
       "      <td>0.388168</td>\n",
       "      <td>0.415578</td>\n",
       "      <td>-0.061862</td>\n",
       "      <td>0.040278</td>\n",
       "      <td>0.244816</td>\n",
       "      <td>-0.539041</td>\n",
       "      <td>0.565421</td>\n",
       "    </tr>\n",
       "    <tr>\n",
       "      <th>Precip</th>\n",
       "      <td>0.163424</td>\n",
       "      <td>0.057024</td>\n",
       "      <td>0.511381</td>\n",
       "      <td>0.820494</td>\n",
       "      <td>-0.169290</td>\n",
       "      <td>0.062218</td>\n",
       "      <td>-0.026506</td>\n",
       "    </tr>\n",
       "    <tr>\n",
       "      <th>SoilMoisture</th>\n",
       "      <td>0.568953</td>\n",
       "      <td>-0.178407</td>\n",
       "      <td>0.092309</td>\n",
       "      <td>-0.201695</td>\n",
       "      <td>-0.403866</td>\n",
       "      <td>-0.138653</td>\n",
       "      <td>-0.157980</td>\n",
       "    </tr>\n",
       "    <tr>\n",
       "      <th>BulkEC</th>\n",
       "      <td>0.439761</td>\n",
       "      <td>-0.264886</td>\n",
       "      <td>-0.225326</td>\n",
       "      <td>0.078613</td>\n",
       "      <td>0.225349</td>\n",
       "      <td>0.678150</td>\n",
       "      <td>0.410508</td>\n",
       "    </tr>\n",
       "    <tr>\n",
       "      <th>Temp</th>\n",
       "      <td>0.116824</td>\n",
       "      <td>0.543928</td>\n",
       "      <td>0.116972</td>\n",
       "      <td>-0.035220</td>\n",
       "      <td>0.555283</td>\n",
       "      <td>0.265977</td>\n",
       "      <td>-0.433360</td>\n",
       "    </tr>\n",
       "    <tr>\n",
       "      <th>O2</th>\n",
       "      <td>-0.442751</td>\n",
       "      <td>0.398170</td>\n",
       "      <td>-0.047713</td>\n",
       "      <td>0.037393</td>\n",
       "      <td>-0.354526</td>\n",
       "      <td>0.280021</td>\n",
       "      <td>0.450581</td>\n",
       "    </tr>\n",
       "    <tr>\n",
       "      <th>Depth</th>\n",
       "      <td>0.124447</td>\n",
       "      <td>0.221071</td>\n",
       "      <td>-0.792031</td>\n",
       "      <td>0.395061</td>\n",
       "      <td>-0.238998</td>\n",
       "      <td>-0.042243</td>\n",
       "      <td>-0.302045</td>\n",
       "    </tr>\n",
       "    <tr>\n",
       "      <th>Site</th>\n",
       "      <td>-0.283477</td>\n",
       "      <td>-0.467740</td>\n",
       "      <td>-0.179158</td>\n",
       "      <td>0.345824</td>\n",
       "      <td>0.454278</td>\n",
       "      <td>-0.274793</td>\n",
       "      <td>0.063773</td>\n",
       "    </tr>\n",
       "  </tbody>\n",
       "</table>\n",
       "</div>"
      ],
      "text/plain": [
       "                   PC1       PC2       PC3       PC4       PC5       PC6  \\\n",
       "variable                                                                   \n",
       "CO2           0.388168  0.415578 -0.061862  0.040278  0.244816 -0.539041   \n",
       "Precip        0.163424  0.057024  0.511381  0.820494 -0.169290  0.062218   \n",
       "SoilMoisture  0.568953 -0.178407  0.092309 -0.201695 -0.403866 -0.138653   \n",
       "BulkEC        0.439761 -0.264886 -0.225326  0.078613  0.225349  0.678150   \n",
       "Temp          0.116824  0.543928  0.116972 -0.035220  0.555283  0.265977   \n",
       "O2           -0.442751  0.398170 -0.047713  0.037393 -0.354526  0.280021   \n",
       "Depth         0.124447  0.221071 -0.792031  0.395061 -0.238998 -0.042243   \n",
       "Site         -0.283477 -0.467740 -0.179158  0.345824  0.454278 -0.274793   \n",
       "\n",
       "                   PC7  \n",
       "variable                \n",
       "CO2           0.565421  \n",
       "Precip       -0.026506  \n",
       "SoilMoisture -0.157980  \n",
       "BulkEC        0.410508  \n",
       "Temp         -0.433360  \n",
       "O2            0.450581  \n",
       "Depth        -0.302045  \n",
       "Site          0.063773  "
      ]
     },
     "execution_count": 53,
     "metadata": {},
     "output_type": "execute_result"
    }
   ],
   "source": [
    "pca_out=pca\n",
    "loadings = pca_out.components_\n",
    "num_pc = pca_out.n_features_\n",
    "pc_list = [\"PC\"+str(i) for i in list(range(1, num_pc+1))]\n",
    "loadings_df = pd.DataFrame.from_dict(dict(zip(pc_list, loadings)))\n",
    "loadings_df['variable'] = df_reindex.columns.values\n",
    "loadings_df = loadings_df.set_index('variable')\n",
    "loadings_df"
   ]
  },
  {
   "cell_type": "code",
   "execution_count": 54,
   "metadata": {},
   "outputs": [
    {
     "data": {
      "image/png": "[encoded data removed]",
      "text/plain": [
       "<Figure size 432x288 with 2 Axes>"
      ]
     },
     "metadata": {
      "needs_background": "light"
     },
     "output_type": "display_data"
    }
   ],
   "source": [
    "import seaborn as sns\n",
    "import matplotlib.pyplot as plt\n",
    "ax = sns.heatmap(loadings_df, annot=True, cmap='Spectral')\n",
    "plt.show()"
   ]
  },
  {
   "cell_type": "code",
   "execution_count": 55,
   "metadata": {},
   "outputs": [
    {
     "data": {
      "image/png": "[encoded data removed]",
      "text/plain": [
       "<Figure size 432x288 with 2 Axes>"
      ]
     },
     "metadata": {
      "needs_background": "light"
     },
     "output_type": "display_data"
    }
   ],
   "source": [
    "def myplot(score,coeff,labels=None):\n",
    "    xs = score[:,0]\n",
    "    ys = score[:,1]\n",
    "    n = coeff.shape[0]\n",
    "    \n",
    "    scalex = 1.0/(xs.max() - xs.min())\n",
    "    scaley = 1.0/(ys.max() - ys.min())\n",
    "    plt.scatter(xs * scalex,ys * scaley, c = df_st[:,6])\n",
    "    for i in range(n):\n",
    "        plt.arrow(0, 0, coeff[i,0], coeff[i,1],color = 'r',alpha = 0.5)\n",
    "        if labels is None:\n",
    "            plt.text(coeff[i,0]* 1.15, coeff[i,1] * 1.15, df.columns.values[i], color = 'k', ha = 'center', va = 'center')\n",
    "        else:\n",
    "            plt.text(coeff[i,0]* 1.15, coeff[i,1] * 1.15, labels[i], color = 'g', ha = 'center', va = 'center')\n",
    "    plt.xlim(-.7,.7)\n",
    "    plt.ylim(-.5,.9)\n",
    "    plt.xlabel(\"PC{}\".format(1))\n",
    "    plt.ylabel(\"PC{}\".format(2))\n",
    "    plt.grid()\n",
    "    plt.colorbar()\n",
    "\n",
    "#Call the function. Use only the 2 PCs.\n",
    "myplot(df_st_transform[:,0:2],np.transpose(pca.components_[0:2, :]))\n",
    "plt.show()"
   ]
  },
  {
   "cell_type": "code",
   "execution_count": 30,
   "metadata": {},
   "outputs": [],
   "source": [
    "import bioinfokit\n",
    "from bioinfokit.visuz import cluster\n",
    "cluster.biplot(cscore=pca_scores, loadings=loadings, labels=df.columns.values, var1=round(pca_out.explained_variance_ratio_[0]*100, 2),\n",
    "var2=round(pca_out.explained_variance_ratio_[1]*100, 2))"
   ]
  },
  {
   "cell_type": "code",
   "execution_count": 31,
   "metadata": {},
   "outputs": [],
   "source": [
    "cluster.biplot(cscore=pca_scores, loadings=loadings, labels=df.columns.values, \n",
    "    var1=round(pca_out.explained_variance_ratio_[0]*100, 2), var2=round(pca_out.explained_variance_ratio_[1]*100, 2), \n",
    "    var3=round(pca_out.explained_variance_ratio_[2]*100, 2))"
   ]
  },
  {
   "cell_type": "code",
   "execution_count": null,
   "metadata": {},
   "outputs": [],
   "source": [
    "#Run this for machine learning model with standardization\n",
    "\n",
    "from sklearn.model_selection import train_test_split\n",
    "\n",
    "df_st1.columns=['CO2', 'Precip','Soil Moisture', 'Bulk EC', 'Temp', 'O2', 'Pit', 'Depth', 'Site']\n",
    "X=df_st1[['Precip', 'Soil Moisture', 'Bulk EC', 'Temp', 'O2', 'Pit', 'Depth']]  # Features\\n\",\n",
    "y=df_st1['CO2']  # Labels\\n\",\n",
    "X_train, X_test, y_train, y_test = train_test_split(X, y, train_size=0.8)"
   ]
  },
  {
   "cell_type": "code",
   "execution_count": 56,
   "metadata": {},
   "outputs": [],
   "source": [
    "#Run this for machine learning model without standardization\n",
    "\n",
    "from sklearn.model_selection import train_test_split\n",
    "\n",
    "df.columns=['CO2', 'Precip','Soil Moisture', 'Bulk EC', 'Temp', 'O2', 'Depth', 'Site']\n",
    "X=df[['Precip', 'Soil Moisture', 'Bulk EC', 'Temp', 'O2',  'Depth', 'Site']]  # Features\\n\",\n",
    "y=df['CO2']  # Labels\\n\",\n",
    "X_train, X_test, y_train, y_test = train_test_split(X, y, train_size=0.8)"
   ]
  },
  {
   "cell_type": "code",
   "execution_count": 58,
   "metadata": {},
   "outputs": [
    {
     "data": {
      "text/plain": [
       "0.9444715107496087"
      ]
     },
     "execution_count": 58,
     "metadata": {},
     "output_type": "execute_result"
    }
   ],
   "source": [
    "from sklearn.neighbors import KNeighborsRegressor\n",
    "from sklearn import metrics\n",
    "\n",
    "neigh = KNeighborsRegressor(n_neighbors=5)\n",
    "neigh.fit(X_train, y_train)\n",
    "neigh.score(X_test,y_test)"
   ]
  },
  {
   "cell_type": "code",
   "execution_count": 14,
   "metadata": {},
   "outputs": [
    {
     "data": {
      "text/plain": [
       "606642"
      ]
     },
     "execution_count": 14,
     "metadata": {},
     "output_type": "execute_result"
    }
   ],
   "source": [
    "len(X_train)\n"
   ]
  },
  {
   "cell_type": "code",
   "execution_count": 59,
   "metadata": {},
   "outputs": [],
   "source": [
    "#X_original=df.iloc[y_train]\n",
    "prediction=neigh.predict(X_test)\n",
    "df_pred=pd.DataFrame(data=prediction)\n",
    "#prediction_original_dataset=neigh.predict(X_original)\n"
   ]
  },
  {
   "cell_type": "code",
   "execution_count": 60,
   "metadata": {},
   "outputs": [
    {
     "data": {
      "image/png": "[encoded data removed]",
      "text/plain": [
       "<Figure size 432x288 with 1 Axes>"
      ]
     },
     "metadata": {
      "needs_background": "light"
     },
     "output_type": "display_data"
    }
   ],
   "source": [
    "import scipy.stats\n",
    "x=y_test\n",
    "y=prediction\n",
    "slope, intercept, r, p, stderr = scipy.stats.linregress(x, y)\n",
    "line = f'Regression line: y={intercept:.2f}+{slope:.2f}x, r={r:.2f}'\n",
    "fig, ax = plt.subplots()\n",
    "ax.plot(x, y, linewidth=0, marker='s', label='Data points')\n",
    "ax.plot(x, intercept + slope * x, label=line)\n",
    "ax.set_xlabel('x')\n",
    "ax.set_ylabel('y')\n",
    "ax.legend(facecolor='white')\n",
    "plt.show()"
   ]
  },
  {
   "cell_type": "code",
   "execution_count": 44,
   "metadata": {},
   "outputs": [
    {
     "name": "stdout",
     "output_type": "stream",
     "text": [
      "0.9757646486645984\n",
      "0.0\n",
      "0.9645638678783376\n",
      "0.0005554488613623844\n",
      "0.9519504588515034\n",
      "23362.8185\n",
      "299.3208254090264\n",
      "860.7146186332759\n"
     ]
    }
   ],
   "source": [
    "result = scipy.stats.linregress(y_test, prediction)\n",
    "print(result.rvalue)\n",
    "print(result.pvalue)\n",
    "print (result.slope)\n",
    "print (result.stderr)\n",
    "from sklearn.metrics import r2_score\n",
    "print (r2_score(y_test, prediction))\n",
    "print(metrics.max_error(y_test, prediction))\n",
    "print(metrics.mean_absolute_error(y_test, prediction))\n",
    "print(metrics.mean_squared_error(y_test, prediction, squared=False))\n",
    "\n",
    "\n"
   ]
  },
  {
   "cell_type": "code",
   "execution_count": 19,
   "metadata": {},
   "outputs": [
    {
     "name": "stdout",
     "output_type": "stream",
     "text": [
      "0.9854652153505192\n",
      "0.0\n"
     ]
    }
   ],
   "source": [
    "r, p = scipy.stats.pearsonr(y_test, prediction)\n",
    "print (r)\n",
    "print (p)"
   ]
  },
  {
   "cell_type": "code",
   "execution_count": 20,
   "metadata": {},
   "outputs": [
    {
     "name": "stdout",
     "output_type": "stream",
     "text": [
      "0.9750862939654055\n",
      "0.0\n"
     ]
    }
   ],
   "source": [
    "result = scipy.stats.spearmanr(y_test, prediction)\n",
    "print (result.correlation)\n",
    "print (result.pvalue)"
   ]
  },
  {
   "cell_type": "code",
   "execution_count": 21,
   "metadata": {},
   "outputs": [
    {
     "name": "stdout",
     "output_type": "stream",
     "text": [
      "0.9137826224527774\n",
      "0.0\n"
     ]
    }
   ],
   "source": [
    "\n",
    "result = scipy.stats.kendalltau(y_test, prediction)\n",
    "print (result.correlation)\n",
    "print (result.pvalue)"
   ]
  },
  {
   "cell_type": "code",
   "execution_count": 117,
   "metadata": {},
   "outputs": [
    {
     "data": {
      "image/png": "[encoded data removed]",
      "text/plain": [
       "<Figure size 432x288 with 1 Axes>"
      ]
     },
     "metadata": {
      "needs_background": "light"
     },
     "output_type": "display_data"
    }
   ],
   "source": [
    "#Standardized model performs slightly better, but I can't figure out how to test the standardized model on different depths or pits. \n",
    "#I also can't figure out how to inverse transform the standardized values to get predictions for the the original dataframe, so I am just using the unstandardized model\n",
    "\n",
    "x=y_test\n",
    "y=prediction\n",
    "slope, intercept, r, p, stderr = scipy.stats.linregress(x, y)\n",
    "line = f'Regression line: y={intercept:.2f}+{slope:.2f}x, r={r:.2f}'\n",
    "fig, ax = plt.subplots()\n",
    "ax.plot(x, y, linewidth=0, marker='s', label='Data points')\n",
    "ax.plot(x, intercept + slope * x, label=line)\n",
    "ax.set_xlabel('x')\n",
    "ax.set_ylabel('y')\n",
    "ax.legend(facecolor='white')\n",
    "plt.show()"
   ]
  },
  {
   "cell_type": "code",
   "execution_count": 62,
   "metadata": {},
   "outputs": [
    {
     "data": {
      "text/html": [
       "<div>\n",
       "<style scoped>\n",
       "    .dataframe tbody tr th:only-of-type {\n",
       "        vertical-align: middle;\n",
       "    }\n",
       "\n",
       "    .dataframe tbody tr th {\n",
       "        vertical-align: top;\n",
       "    }\n",
       "\n",
       "    .dataframe thead th {\n",
       "        text-align: right;\n",
       "    }\n",
       "</style>\n",
       "<table border=\"1\" class=\"dataframe\">\n",
       "  <thead>\n",
       "    <tr style=\"text-align: right;\">\n",
       "      <th></th>\n",
       "      <th>index</th>\n",
       "      <th>Precip</th>\n",
       "      <th>Soil Moisture</th>\n",
       "      <th>Bulk EC</th>\n",
       "      <th>Temp</th>\n",
       "      <th>O2</th>\n",
       "      <th>Depth</th>\n",
       "      <th>Site</th>\n",
       "      <th>Actual</th>\n",
       "      <th>Prediction</th>\n",
       "    </tr>\n",
       "  </thead>\n",
       "  <tbody>\n",
       "    <tr>\n",
       "      <th>0</th>\n",
       "      <td>958444</td>\n",
       "      <td>0.00</td>\n",
       "      <td>0.047000</td>\n",
       "      <td>0.000000</td>\n",
       "      <td>12.32375</td>\n",
       "      <td>19.318750</td>\n",
       "      <td>60.0</td>\n",
       "      <td>3.0</td>\n",
       "      <td>2761.08075</td>\n",
       "      <td>3176.700650</td>\n",
       "    </tr>\n",
       "    <tr>\n",
       "      <th>1</th>\n",
       "      <td>895270</td>\n",
       "      <td>0.00</td>\n",
       "      <td>0.094000</td>\n",
       "      <td>0.027500</td>\n",
       "      <td>14.02300</td>\n",
       "      <td>19.290750</td>\n",
       "      <td>10.0</td>\n",
       "      <td>3.0</td>\n",
       "      <td>5038.79750</td>\n",
       "      <td>2118.480237</td>\n",
       "    </tr>\n",
       "    <tr>\n",
       "      <th>2</th>\n",
       "      <td>32850</td>\n",
       "      <td>0.54</td>\n",
       "      <td>0.328000</td>\n",
       "      <td>0.050000</td>\n",
       "      <td>26.95500</td>\n",
       "      <td>19.156969</td>\n",
       "      <td>50.0</td>\n",
       "      <td>1.0</td>\n",
       "      <td>5950.00000</td>\n",
       "      <td>5914.000000</td>\n",
       "    </tr>\n",
       "    <tr>\n",
       "      <th>3</th>\n",
       "      <td>1740976</td>\n",
       "      <td>0.00</td>\n",
       "      <td>0.189000</td>\n",
       "      <td>0.140000</td>\n",
       "      <td>9.01100</td>\n",
       "      <td>13.278250</td>\n",
       "      <td>30.0</td>\n",
       "      <td>3.0</td>\n",
       "      <td>3571.67475</td>\n",
       "      <td>3390.881700</td>\n",
       "    </tr>\n",
       "    <tr>\n",
       "      <th>4</th>\n",
       "      <td>951254</td>\n",
       "      <td>0.00</td>\n",
       "      <td>0.050500</td>\n",
       "      <td>0.000000</td>\n",
       "      <td>13.62500</td>\n",
       "      <td>19.291000</td>\n",
       "      <td>60.0</td>\n",
       "      <td>3.0</td>\n",
       "      <td>4052.71575</td>\n",
       "      <td>4027.781650</td>\n",
       "    </tr>\n",
       "    <tr>\n",
       "      <th>...</th>\n",
       "      <td>...</td>\n",
       "      <td>...</td>\n",
       "      <td>...</td>\n",
       "      <td>...</td>\n",
       "      <td>...</td>\n",
       "      <td>...</td>\n",
       "      <td>...</td>\n",
       "      <td>...</td>\n",
       "      <td>...</td>\n",
       "      <td>...</td>\n",
       "    </tr>\n",
       "    <tr>\n",
       "      <th>151656</th>\n",
       "      <td>2532629</td>\n",
       "      <td>3.52</td>\n",
       "      <td>0.206000</td>\n",
       "      <td>0.133333</td>\n",
       "      <td>9.96075</td>\n",
       "      <td>13.470750</td>\n",
       "      <td>10.0</td>\n",
       "      <td>3.0</td>\n",
       "      <td>1819.37450</td>\n",
       "      <td>3043.621350</td>\n",
       "    </tr>\n",
       "    <tr>\n",
       "      <th>151657</th>\n",
       "      <td>766064</td>\n",
       "      <td>2.04</td>\n",
       "      <td>0.127000</td>\n",
       "      <td>0.027500</td>\n",
       "      <td>2.00200</td>\n",
       "      <td>19.485750</td>\n",
       "      <td>10.0</td>\n",
       "      <td>3.0</td>\n",
       "      <td>2819.56375</td>\n",
       "      <td>2822.382700</td>\n",
       "    </tr>\n",
       "    <tr>\n",
       "      <th>151658</th>\n",
       "      <td>682970</td>\n",
       "      <td>0.00</td>\n",
       "      <td>0.086250</td>\n",
       "      <td>0.017500</td>\n",
       "      <td>11.38850</td>\n",
       "      <td>18.799750</td>\n",
       "      <td>60.0</td>\n",
       "      <td>3.0</td>\n",
       "      <td>2722.08175</td>\n",
       "      <td>2956.736400</td>\n",
       "    </tr>\n",
       "    <tr>\n",
       "      <th>151659</th>\n",
       "      <td>1809655</td>\n",
       "      <td>3.44</td>\n",
       "      <td>0.390167</td>\n",
       "      <td>0.070000</td>\n",
       "      <td>4.91550</td>\n",
       "      <td>9.218500</td>\n",
       "      <td>60.0</td>\n",
       "      <td>3.0</td>\n",
       "      <td>559.22650</td>\n",
       "      <td>566.890900</td>\n",
       "    </tr>\n",
       "    <tr>\n",
       "      <th>151660</th>\n",
       "      <td>2519458</td>\n",
       "      <td>0.00</td>\n",
       "      <td>0.222000</td>\n",
       "      <td>0.030000</td>\n",
       "      <td>0.83570</td>\n",
       "      <td>14.037475</td>\n",
       "      <td>10.0</td>\n",
       "      <td>3.0</td>\n",
       "      <td>2183.44450</td>\n",
       "      <td>1372.613920</td>\n",
       "    </tr>\n",
       "  </tbody>\n",
       "</table>\n",
       "<p>151661 rows × 10 columns</p>\n",
       "</div>"
      ],
      "text/plain": [
       "          index  Precip  Soil Moisture   Bulk EC      Temp         O2  Depth  \\\n",
       "0        958444    0.00       0.047000  0.000000  12.32375  19.318750   60.0   \n",
       "1        895270    0.00       0.094000  0.027500  14.02300  19.290750   10.0   \n",
       "2         32850    0.54       0.328000  0.050000  26.95500  19.156969   50.0   \n",
       "3       1740976    0.00       0.189000  0.140000   9.01100  13.278250   30.0   \n",
       "4        951254    0.00       0.050500  0.000000  13.62500  19.291000   60.0   \n",
       "...         ...     ...            ...       ...       ...        ...    ...   \n",
       "151656  2532629    3.52       0.206000  0.133333   9.96075  13.470750   10.0   \n",
       "151657   766064    2.04       0.127000  0.027500   2.00200  19.485750   10.0   \n",
       "151658   682970    0.00       0.086250  0.017500  11.38850  18.799750   60.0   \n",
       "151659  1809655    3.44       0.390167  0.070000   4.91550   9.218500   60.0   \n",
       "151660  2519458    0.00       0.222000  0.030000   0.83570  14.037475   10.0   \n",
       "\n",
       "        Site      Actual   Prediction  \n",
       "0        3.0  2761.08075  3176.700650  \n",
       "1        3.0  5038.79750  2118.480237  \n",
       "2        1.0  5950.00000  5914.000000  \n",
       "3        3.0  3571.67475  3390.881700  \n",
       "4        3.0  4052.71575  4027.781650  \n",
       "...      ...         ...          ...  \n",
       "151656   3.0  1819.37450  3043.621350  \n",
       "151657   3.0  2819.56375  2822.382700  \n",
       "151658   3.0  2722.08175  2956.736400  \n",
       "151659   3.0   559.22650   566.890900  \n",
       "151660   3.0  2183.44450  1372.613920  \n",
       "\n",
       "[151661 rows x 10 columns]"
      ]
     },
     "execution_count": 62,
     "metadata": {},
     "output_type": "execute_result"
    }
   ],
   "source": [
    "y_hats=prediction\n",
    "df_out = X_test.reset_index()\n",
    "df_out[\"Actual\"] = y_test.reset_index()['CO2']\n",
    "df_out[\"Prediction\"] = y_hats#.reset_index()[0]\n",
    "y_test['preds'] = y_hats\n",
    "df_out\n",
    "#df_out = pd.merge(df,y_test[['preds']],how = 'left',left_index = True, right_index = True)"
   ]
  },
  {
   "cell_type": "code",
   "execution_count": 74,
   "metadata": {},
   "outputs": [
    {
     "data": {
      "image/png": "[encoded data removed]",
      "text/plain": [
       "<Figure size 432x288 with 1 Axes>"
      ]
     },
     "metadata": {
      "needs_background": "light"
     },
     "output_type": "display_data"
    }
   ],
   "source": [
    "#For some reason the Shale Hills data has been dropped\n",
    "#All pits show high level of prediction accuracy (pit 20 is probably lowest accuracy)\n",
    "\n",
    "df_out=df_out.astype('float32')\n",
    "x=df_out.Prediction[df_out.Site==3]\n",
    "y=df_out.Actual[df_out.Site==3]\n",
    "slope, intercept, r, p, stderr = scipy.stats.linregress(x, y)\n",
    "line = f'Regression line: y={intercept:.2f}+{slope:.2f}x, r={r:.2f}'\n",
    "fig, ax = plt.subplots()\n",
    "ax.plot(x, y, linewidth=0, marker='s', label='Data points')\n",
    "ax.plot(x, intercept + slope * x, label=line)\n",
    "ax.set_xlabel('x')\n",
    "ax.set_ylabel('y')\n",
    "ax.legend(facecolor='white')\n",
    "plt.show()"
   ]
  },
  {
   "cell_type": "code",
   "execution_count": 86,
   "metadata": {},
   "outputs": [
    {
     "name": "stdout",
     "output_type": "stream",
     "text": [
      "0.9659167119983264\n",
      "0.0\n",
      "0.0006972487470096001\n",
      "0.9288502621814316\n",
      "19582.793\n",
      "370.03955\n",
      "891.9108\n"
     ]
    },
    {
     "data": {
      "text/plain": [
       "False"
      ]
     },
     "execution_count": 86,
     "metadata": {},
     "output_type": "execute_result"
    }
   ],
   "source": [
    "result = scipy.stats.linregress(x, y)\n",
    "print(result.rvalue)\n",
    "print(result.pvalue)\n",
    "print (result.stderr)\n",
    "print (r2_score(x, y))\n",
    "print(metrics.max_error(x, y))\n",
    "print(metrics.mean_absolute_error(x, y))\n",
    "print(metrics.mean_squared_error(x, y, squared=False))\n",
    "np.any(df_out.Depth==2)"
   ]
  },
  {
   "cell_type": "code",
   "execution_count": 66,
   "metadata": {},
   "outputs": [
    {
     "ename": "ValueError",
     "evalue": "Inputs must not be empty.",
     "output_type": "error",
     "traceback": [
      "\u001b[1;31m---------------------------------------------------------------------------\u001b[0m",
      "\u001b[1;31mValueError\u001b[0m                                Traceback (most recent call last)",
      "\u001b[1;32m<ipython-input-66-b5785b7dcdd7>\u001b[0m in \u001b[0;36m<module>\u001b[1;34m\u001b[0m\n\u001b[0;32m      1\u001b[0m \u001b[0mx\u001b[0m\u001b[1;33m=\u001b[0m\u001b[0mdf_out\u001b[0m\u001b[1;33m.\u001b[0m\u001b[0mPrediction\u001b[0m\u001b[1;33m[\u001b[0m\u001b[0mdf_out\u001b[0m\u001b[1;33m.\u001b[0m\u001b[0mDepth\u001b[0m\u001b[1;33m==\u001b[0m\u001b[1;36m2\u001b[0m\u001b[1;33m]\u001b[0m\u001b[1;33m\u001b[0m\u001b[1;33m\u001b[0m\u001b[0m\n\u001b[0;32m      2\u001b[0m \u001b[0my\u001b[0m\u001b[1;33m=\u001b[0m\u001b[0mdf_out\u001b[0m\u001b[1;33m.\u001b[0m\u001b[0mActual\u001b[0m\u001b[1;33m[\u001b[0m\u001b[0mdf_out\u001b[0m\u001b[1;33m.\u001b[0m\u001b[0mDepth\u001b[0m\u001b[1;33m==\u001b[0m\u001b[1;36m2\u001b[0m\u001b[1;33m]\u001b[0m\u001b[1;33m\u001b[0m\u001b[1;33m\u001b[0m\u001b[0m\n\u001b[1;32m----> 3\u001b[1;33m \u001b[0mslope\u001b[0m\u001b[1;33m,\u001b[0m \u001b[0mintercept\u001b[0m\u001b[1;33m,\u001b[0m \u001b[0mr\u001b[0m\u001b[1;33m,\u001b[0m \u001b[0mp\u001b[0m\u001b[1;33m,\u001b[0m \u001b[0mstderr\u001b[0m \u001b[1;33m=\u001b[0m \u001b[0mscipy\u001b[0m\u001b[1;33m.\u001b[0m\u001b[0mstats\u001b[0m\u001b[1;33m.\u001b[0m\u001b[0mlinregress\u001b[0m\u001b[1;33m(\u001b[0m\u001b[0mx\u001b[0m\u001b[1;33m,\u001b[0m \u001b[0my\u001b[0m\u001b[1;33m)\u001b[0m\u001b[1;33m\u001b[0m\u001b[1;33m\u001b[0m\u001b[0m\n\u001b[0m\u001b[0;32m      4\u001b[0m \u001b[0mline\u001b[0m \u001b[1;33m=\u001b[0m \u001b[1;34mf'Regression line: y={intercept:.2f}+{slope:.2f}x, r={r:.2f}'\u001b[0m\u001b[1;33m\u001b[0m\u001b[1;33m\u001b[0m\u001b[0m\n\u001b[0;32m      5\u001b[0m \u001b[0mfig\u001b[0m\u001b[1;33m,\u001b[0m \u001b[0max\u001b[0m \u001b[1;33m=\u001b[0m \u001b[0mplt\u001b[0m\u001b[1;33m.\u001b[0m\u001b[0msubplots\u001b[0m\u001b[1;33m(\u001b[0m\u001b[1;33m)\u001b[0m\u001b[1;33m\u001b[0m\u001b[1;33m\u001b[0m\u001b[0m\n",
      "\u001b[1;32m~\\anaconda3\\lib\\site-packages\\scipy\\stats\\_stats_mstats_common.py\u001b[0m in \u001b[0;36mlinregress\u001b[1;34m(x, y)\u001b[0m\n\u001b[0;32m    107\u001b[0m \u001b[1;33m\u001b[0m\u001b[0m\n\u001b[0;32m    108\u001b[0m     \u001b[1;32mif\u001b[0m \u001b[0mx\u001b[0m\u001b[1;33m.\u001b[0m\u001b[0msize\u001b[0m \u001b[1;33m==\u001b[0m \u001b[1;36m0\u001b[0m \u001b[1;32mor\u001b[0m \u001b[0my\u001b[0m\u001b[1;33m.\u001b[0m\u001b[0msize\u001b[0m \u001b[1;33m==\u001b[0m \u001b[1;36m0\u001b[0m\u001b[1;33m:\u001b[0m\u001b[1;33m\u001b[0m\u001b[1;33m\u001b[0m\u001b[0m\n\u001b[1;32m--> 109\u001b[1;33m         \u001b[1;32mraise\u001b[0m \u001b[0mValueError\u001b[0m\u001b[1;33m(\u001b[0m\u001b[1;34m\"Inputs must not be empty.\"\u001b[0m\u001b[1;33m)\u001b[0m\u001b[1;33m\u001b[0m\u001b[1;33m\u001b[0m\u001b[0m\n\u001b[0m\u001b[0;32m    110\u001b[0m \u001b[1;33m\u001b[0m\u001b[0m\n\u001b[0;32m    111\u001b[0m     \u001b[0mn\u001b[0m \u001b[1;33m=\u001b[0m \u001b[0mlen\u001b[0m\u001b[1;33m(\u001b[0m\u001b[0mx\u001b[0m\u001b[1;33m)\u001b[0m\u001b[1;33m\u001b[0m\u001b[1;33m\u001b[0m\u001b[0m\n",
      "\u001b[1;31mValueError\u001b[0m: Inputs must not be empty."
     ]
    }
   ],
   "source": [
    "x=df_out.Prediction[df_out.Depth==2]\n",
    "y=df_out.Actual[df_out.Depth==2]\n",
    "slope, intercept, r, p, stderr = scipy.stats.linregress(x, y)\n",
    "line = f'Regression line: y={intercept:.2f}+{slope:.2f}x, r={r:.2f}'\n",
    "fig, ax = plt.subplots()\n",
    "ax.plot(x, y, linewidth=0, marker='s', label='Data points')\n",
    "ax.plot(x, intercept + slope * x, label=line)\n",
    "ax.set_xlabel('x')\n",
    "ax.set_ylabel('y')\n",
    "ax.legend(facecolor='white')\n",
    "plt.show()"
   ]
  },
  {
   "cell_type": "code",
   "execution_count": 31,
   "metadata": {},
   "outputs": [
    {
     "name": "stdout",
     "output_type": "stream",
     "text": [
      "0.9468114299326165\n",
      "0.0\n",
      "0.9740731890348098\n",
      "0.0018740755955364203\n",
      "0.8896377205078887\n",
      "11663.627\n",
      "278.59265\n",
      "761.34607\n"
     ]
    }
   ],
   "source": [
    "import scipy.stats\n",
    "result = scipy.stats.linregress(x, y)\n",
    "print(result.rvalue)\n",
    "print(result.pvalue)\n",
    "print (result.slope)\n",
    "print (result.stderr)\n",
    "from sklearn.metrics import r2_score\n",
    "print (r2_score(x, y))\n",
    "print(metrics.max_error(x, y))\n",
    "print(metrics.mean_absolute_error(x, y))\n",
    "print(metrics.mean_squared_error(x, y, squared=False))\n"
   ]
  },
  {
   "cell_type": "code",
   "execution_count": 32,
   "metadata": {},
   "outputs": [
    {
     "data": {
      "image/png": "[encoded data removed]",
      "text/plain": [
       "<Figure size 432x288 with 1 Axes>"
      ]
     },
     "metadata": {
      "needs_background": "light"
     },
     "output_type": "display_data"
    }
   ],
   "source": [
    "x=df_out.Prediction[df_out.Temp>=31.5]\n",
    "y=df_out.Actual[df_out.Temp>=31.5]\n",
    "slope, intercept, r, p, stderr = scipy.stats.linregress(x, y)\n",
    "line = f'Regression line: y={intercept:.2f}+{slope:.2f}x, r={r:.2f}'\n",
    "fig, ax = plt.subplots()\n",
    "ax.plot(x, y, linewidth=0, marker='s', label='Data points')\n",
    "ax.plot(x, intercept + slope * x, label=line)\n",
    "ax.set_xlabel('x')\n",
    "ax.set_ylabel('y')\n",
    "ax.legend(facecolor='white')\n",
    "plt.show()"
   ]
  },
  {
   "cell_type": "code",
   "execution_count": 33,
   "metadata": {},
   "outputs": [
    {
     "data": {
      "image/png": "[encoded data removed]",
      "text/plain": [
       "<Figure size 432x288 with 1 Axes>"
      ]
     },
     "metadata": {
      "needs_background": "light"
     },
     "output_type": "display_data"
    }
   ],
   "source": [
    "x=df_out.Prediction[df_out.Temp<=-3]\n",
    "y=df_out.Actual[df_out.Temp<=-3]\n",
    "slope, intercept, r, p, stderr = scipy.stats.linregress(x, y)\n",
    "line = f'Regression line: y={intercept:.2f}+{slope:.2f}x, r={r:.2f}'\n",
    "fig, ax = plt.subplots()\n",
    "ax.plot(x, y, linewidth=0, marker='s', label='Data points')\n",
    "ax.plot(x, intercept + slope * x, label=line)\n",
    "ax.set_xlabel('x')\n",
    "ax.set_ylabel('y')\n",
    "ax.legend(facecolor='white')\n",
    "plt.show()"
   ]
  },
  {
   "cell_type": "code",
   "execution_count": null,
   "metadata": {},
   "outputs": [],
   "source": []
  }
 ],
 "metadata": {
  "kernelspec": {
   "display_name": "Python 3",
   "language": "python",
   "name": "python3"
  },
  "language_info": {
   "codemirror_mode": {
    "name": "ipython",
    "version": 3
   },
   "file_extension": ".py",
   "mimetype": "text/x-python",
   "name": "python",
   "nbconvert_exporter": "python",
   "pygments_lexer": "ipython3",
   "version": "3.9.2"
  }
 },
 "nbformat": 4,
 "nbformat_minor": 4
}
