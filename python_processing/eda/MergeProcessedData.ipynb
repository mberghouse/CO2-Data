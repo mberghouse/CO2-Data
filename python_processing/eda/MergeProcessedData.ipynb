{
 "cells": [
  {
   "cell_type": "markdown",
   "metadata": {},
   "source": [
    "## To do list:\n",
    "\n",
    "* Figure out why pits R1C1, SFPit1 and SPMS will not import correctly\n",
    "* BGZOB water potential and reduction potential should be nan at the beginning, not 0\n",
    "* Some 0s should be nan for Calhoun\n",
    "* Also, if a site has a variable (such as soil moisture) at one depth but CO2 at 2 depths, then we will get 0s instead of nan for the depth where we have CO2 but not soil moisture.\n",
    "* Everything checks out except for the 0s that should be nan. I think these 0s come when a site does not have a variable (happens alot with water potential and reduction potential), so the code seems to just add a column of 0s for those sites"
   ]
  },
  {
   "cell_type": "code",
   "execution_count": 55,
   "metadata": {},
   "outputs": [],
   "source": [
    "import pandas as pd\n",
    "import matplotlib.pyplot as plt\n",
    "import numpy as np\n",
    "import os\n",
    "\n",
    "# sites is a list of locations (e.g., \"Calhoun\"),\n",
    "# all_pits is a dict with sites as keys, and lists of pits \n",
    "# at each site as the values\n",
    "all_pits = {}\n",
    "sites = os.listdir('../../processed_data')\n",
    "\n",
    "# Loop through all sites to construct dict of sites/pits\n",
    "for site in sites:\n",
    "    cur_pits = []\n",
    "    for pro_file in os.listdir(os.path.join('../../processed_data/', site)):\n",
    "        cur_pits.append(pro_file.split('_')[0])\n",
    "        \n",
    "    all_pits[site] = cur_pits\n",
    "\n",
    "# Data will be a dict with pits as keys, np arrays as values\n",
    "data = {}\n",
    "# This is a list of all the features for R1C1. We'll want to make this an exhaustive list\n",
    "# of all potential features across all pits\n",
    "features = ['CO2', 'precip', 'SoilMoisture', 'BulkEC', 'Temp', 'O2', 'WaterPotential', 'ReductionPotential']\n",
    "m = len(features)\n",
    "\n",
    "# Load in and merge all files\n",
    "# NOTE: Only doing Calhoun R1C1 for now, but you get the idea\n",
    "i = 0\n",
    "for site in all_pits.keys():\n",
    "    for pit in all_pits[site]:\n",
    "        \n",
    "        if pit not in ['R1C2', 'SFPit1', 'SPMS']:\n",
    "            infile = os.path.join('../../processed_data', site, '%s_processed.csv' % pit)\n",
    "            df = pd.read_csv(infile, parse_dates=[0], index_col=0, na_values=[-99999])\n",
    "            depths = [col.split('_')[1].split('cm')[0] for col in df.columns]\n",
    "            depths = [d for d in depths if d != 'precip.mm']\n",
    "            unique_depths = list(set(depths))\n",
    "\n",
    "            # t is the number of time steps\n",
    "            t = df.shape[0]\n",
    "\n",
    "            # data shape is the # of observations (# time points * depths), # features\n",
    "            cur_data = np.empty((t*len(unique_depths), m), dtype=float)\n",
    "\n",
    "            for i, depth in enumerate(unique_depths):\n",
    "                depth_cols = [col for col in df.columns if '_%scm' % depth in col]\n",
    "                for j, feature in enumerate(features):\n",
    "                    # Look for columns with this feature and depth in the name\n",
    "                    if feature == 'precip':\n",
    "                        col = 'PRISM_precip.mm'\n",
    "                    else:\n",
    "                        matches = [col for col in depth_cols if feature in col]\n",
    "\n",
    "                        # Correct for fact that \"O2\" search returns \"CO2\" as well\n",
    "                        if feature == 'O2':\n",
    "                            matches = [col for col in matches if 'CO2' not in col]\n",
    "\n",
    "                        if len(matches) > 1:\n",
    "                            raise ValueError(\"\"\"More than one possible match found for %s %s %scm %s\"\"\" %(site, pit, depth, feature))\n",
    "                        elif len(matches) == 1:\n",
    "                            col = matches[0]\n",
    "                        else:\n",
    "                            continue\n",
    "\n",
    "                    # Finally, now that we have the column name\n",
    "                        if np.all(cur_data[:,j]==0)==True:\n",
    "                            cur_data[:,j]=np.nan       \n",
    "                    cur_data[i*t:(i+1)*t, j] = df[col].values\n",
    "                    cur_data[:,6]=np.nan\n",
    "                if np.all(cur_data[:,j]==0)==True:\n",
    "                        cur_data[:,j]=np.nan\n",
    "            data[pit] = cur_data.copy()"
   ]
  },
  {
   "cell_type": "code",
   "execution_count": 13,
   "metadata": {},
   "outputs": [
    {
     "name": "stdout",
     "output_type": "stream",
     "text": [
      "False\n"
     ]
    }
   ],
   "source": [
    "if np.all(cur_data[:,7]==0):\n",
    "    print ('True')\n",
    "else:\n",
    "    print ('False')\n",
    "#np.all(cur_data[:,1])==0   \n",
    "# np.all(cur_data[:,6])"
   ]
  },
  {
   "cell_type": "code",
   "execution_count": 56,
   "metadata": {},
   "outputs": [],
   "source": [
    "merged=np.vstack(( data['R1C1'], data['R1H1'], data['R1P1'],  data['TMMS'], data['LRMS'], data['NPMS'], data['SPVF'], data['BGZOB1'], data['BGZOB2'], data['BGZOB3'], data['BGZOB4'], data['Green1'], data['Green2'], data['Green3'], data['MC1'], data['MC2'], data['MC3'], data['MC4'], data['MC5'], data['MC6']))\n",
    "#\n",
    "df=pd.DataFrame(data=merged, columns=['CO2', 'Precip', 'SoilMoisture', 'BulkEC', 'Temp', 'O2', 'WaterPotential', 'ReductionPotential'])"
   ]
  },
  {
   "cell_type": "code",
   "execution_count": 57,
   "metadata": {},
   "outputs": [
    {
     "data": {
      "text/html": [
       "<div>\n",
       "<style scoped>\n",
       "    .dataframe tbody tr th:only-of-type {\n",
       "        vertical-align: middle;\n",
       "    }\n",
       "\n",
       "    .dataframe tbody tr th {\n",
       "        vertical-align: top;\n",
       "    }\n",
       "\n",
       "    .dataframe thead th {\n",
       "        text-align: right;\n",
       "    }\n",
       "</style>\n",
       "<table border=\"1\" class=\"dataframe\">\n",
       "  <thead>\n",
       "    <tr style=\"text-align: right;\">\n",
       "      <th></th>\n",
       "      <th>CO2</th>\n",
       "      <th>Precip</th>\n",
       "      <th>SoilMoisture</th>\n",
       "      <th>BulkEC</th>\n",
       "      <th>Temp</th>\n",
       "      <th>O2</th>\n",
       "      <th>WaterPotential</th>\n",
       "      <th>ReductionPotential</th>\n",
       "    </tr>\n",
       "  </thead>\n",
       "  <tbody>\n",
       "    <tr>\n",
       "      <th>0</th>\n",
       "      <td>7495.00000</td>\n",
       "      <td>NaN</td>\n",
       "      <td>NaN</td>\n",
       "      <td>NaN</td>\n",
       "      <td>15.99</td>\n",
       "      <td>18.988224</td>\n",
       "      <td>NaN</td>\n",
       "      <td>NaN</td>\n",
       "    </tr>\n",
       "    <tr>\n",
       "      <th>1</th>\n",
       "      <td>7715.00000</td>\n",
       "      <td>0.0</td>\n",
       "      <td>NaN</td>\n",
       "      <td>NaN</td>\n",
       "      <td>15.99</td>\n",
       "      <td>18.761198</td>\n",
       "      <td>NaN</td>\n",
       "      <td>NaN</td>\n",
       "    </tr>\n",
       "    <tr>\n",
       "      <th>2</th>\n",
       "      <td>7910.00000</td>\n",
       "      <td>0.0</td>\n",
       "      <td>NaN</td>\n",
       "      <td>NaN</td>\n",
       "      <td>15.99</td>\n",
       "      <td>18.761198</td>\n",
       "      <td>NaN</td>\n",
       "      <td>NaN</td>\n",
       "    </tr>\n",
       "    <tr>\n",
       "      <th>3</th>\n",
       "      <td>7875.00000</td>\n",
       "      <td>0.0</td>\n",
       "      <td>NaN</td>\n",
       "      <td>NaN</td>\n",
       "      <td>15.99</td>\n",
       "      <td>18.761198</td>\n",
       "      <td>NaN</td>\n",
       "      <td>NaN</td>\n",
       "    </tr>\n",
       "    <tr>\n",
       "      <th>4</th>\n",
       "      <td>8325.00000</td>\n",
       "      <td>0.0</td>\n",
       "      <td>NaN</td>\n",
       "      <td>NaN</td>\n",
       "      <td>15.99</td>\n",
       "      <td>18.587071</td>\n",
       "      <td>NaN</td>\n",
       "      <td>NaN</td>\n",
       "    </tr>\n",
       "    <tr>\n",
       "      <th>...</th>\n",
       "      <td>...</td>\n",
       "      <td>...</td>\n",
       "      <td>...</td>\n",
       "      <td>...</td>\n",
       "      <td>...</td>\n",
       "      <td>...</td>\n",
       "      <td>...</td>\n",
       "      <td>...</td>\n",
       "    </tr>\n",
       "    <tr>\n",
       "      <th>2691424</th>\n",
       "      <td>788.88775</td>\n",
       "      <td>NaN</td>\n",
       "      <td>NaN</td>\n",
       "      <td>NaN</td>\n",
       "      <td>NaN</td>\n",
       "      <td>NaN</td>\n",
       "      <td>NaN</td>\n",
       "      <td>597.850</td>\n",
       "    </tr>\n",
       "    <tr>\n",
       "      <th>2691425</th>\n",
       "      <td>793.57400</td>\n",
       "      <td>NaN</td>\n",
       "      <td>NaN</td>\n",
       "      <td>NaN</td>\n",
       "      <td>NaN</td>\n",
       "      <td>NaN</td>\n",
       "      <td>NaN</td>\n",
       "      <td>599.225</td>\n",
       "    </tr>\n",
       "    <tr>\n",
       "      <th>2691426</th>\n",
       "      <td>793.09225</td>\n",
       "      <td>NaN</td>\n",
       "      <td>NaN</td>\n",
       "      <td>NaN</td>\n",
       "      <td>NaN</td>\n",
       "      <td>NaN</td>\n",
       "      <td>NaN</td>\n",
       "      <td>597.750</td>\n",
       "    </tr>\n",
       "    <tr>\n",
       "      <th>2691427</th>\n",
       "      <td>800.28000</td>\n",
       "      <td>NaN</td>\n",
       "      <td>NaN</td>\n",
       "      <td>NaN</td>\n",
       "      <td>NaN</td>\n",
       "      <td>NaN</td>\n",
       "      <td>NaN</td>\n",
       "      <td>598.275</td>\n",
       "    </tr>\n",
       "    <tr>\n",
       "      <th>2691428</th>\n",
       "      <td>798.14100</td>\n",
       "      <td>NaN</td>\n",
       "      <td>NaN</td>\n",
       "      <td>NaN</td>\n",
       "      <td>NaN</td>\n",
       "      <td>NaN</td>\n",
       "      <td>NaN</td>\n",
       "      <td>598.025</td>\n",
       "    </tr>\n",
       "  </tbody>\n",
       "</table>\n",
       "<p>1483919 rows × 8 columns</p>\n",
       "</div>"
      ],
      "text/plain": [
       "                CO2  Precip  SoilMoisture  BulkEC   Temp         O2  \\\n",
       "0        7495.00000     NaN           NaN     NaN  15.99  18.988224   \n",
       "1        7715.00000     0.0           NaN     NaN  15.99  18.761198   \n",
       "2        7910.00000     0.0           NaN     NaN  15.99  18.761198   \n",
       "3        7875.00000     0.0           NaN     NaN  15.99  18.761198   \n",
       "4        8325.00000     0.0           NaN     NaN  15.99  18.587071   \n",
       "...             ...     ...           ...     ...    ...        ...   \n",
       "2691424   788.88775     NaN           NaN     NaN    NaN        NaN   \n",
       "2691425   793.57400     NaN           NaN     NaN    NaN        NaN   \n",
       "2691426   793.09225     NaN           NaN     NaN    NaN        NaN   \n",
       "2691427   800.28000     NaN           NaN     NaN    NaN        NaN   \n",
       "2691428   798.14100     NaN           NaN     NaN    NaN        NaN   \n",
       "\n",
       "         WaterPotential  ReductionPotential  \n",
       "0                   NaN                 NaN  \n",
       "1                   NaN                 NaN  \n",
       "2                   NaN                 NaN  \n",
       "3                   NaN                 NaN  \n",
       "4                   NaN                 NaN  \n",
       "...                 ...                 ...  \n",
       "2691424             NaN             597.850  \n",
       "2691425             NaN             599.225  \n",
       "2691426             NaN             597.750  \n",
       "2691427             NaN             598.275  \n",
       "2691428             NaN             598.025  \n",
       "\n",
       "[1483919 rows x 8 columns]"
      ]
     },
     "execution_count": 57,
     "metadata": {},
     "output_type": "execute_result"
    }
   ],
   "source": [
    "df.dropna(subset=['CO2'], inplace=True)\n",
    "df"
   ]
  },
  {
   "cell_type": "code",
   "execution_count": 65,
   "metadata": {},
   "outputs": [
    {
     "data": {
      "text/plain": [
       "802771"
      ]
     },
     "execution_count": 65,
     "metadata": {},
     "output_type": "execute_result"
    }
   ],
   "source": [
    "df['ReductionPotential'].isna().sum()"
   ]
  },
  {
   "cell_type": "code",
   "execution_count": 4,
   "metadata": {},
   "outputs": [],
   "source": [
    "final_array=df.to_numpy()\n",
    "output=final_array.copy()\n",
    "outfile = '../../merged_processed_data/MergeProcessedData.csv'\n",
    "#output.to_csv(outfile, na_rep=-99999, index_label='record', float_format='%.3f')\n",
    "np.savetxt(outfile, output, fmt='%.4f', delimiter=\",\")\n"
   ]
  },
  {
   "cell_type": "code",
   "execution_count": 27,
   "metadata": {},
   "outputs": [],
   "source": [
    "df=df.drop(columns='WaterPotential')"
   ]
  },
  {
   "cell_type": "code",
   "execution_count": 14,
   "metadata": {},
   "outputs": [],
   "source": [
    "from sklearn.decomposition import PCA\n",
    "from sklearn.preprocessing import StandardScaler\n"
   ]
  },
  {
   "cell_type": "code",
   "execution_count": 20,
   "metadata": {},
   "outputs": [
    {
     "name": "stderr",
     "output_type": "stream",
     "text": [
      "C:\\Users\\marcb\\anaconda3\\lib\\site-packages\\numpy\\lib\\nanfunctions.py:1544: RuntimeWarning: overflow encountered in multiply\n",
      "  sqr = np.multiply(arr, arr, out=arr)\n"
     ]
    }
   ],
   "source": [
    "df_med=df.fillna(df.median())\n",
    "df_med=df_med.drop(columns='WaterPotential')\n",
    "df_st =  StandardScaler().fit_transform(df_med) "
   ]
  },
  {
   "cell_type": "code",
   "execution_count": 51,
   "metadata": {},
   "outputs": [],
   "source": [
    "df.interpolate(axis=1, inplace=True)"
   ]
  },
  {
   "cell_type": "code",
   "execution_count": 70,
   "metadata": {},
   "outputs": [
    {
     "data": {
      "text/html": [
       "<div>\n",
       "<style scoped>\n",
       "    .dataframe tbody tr th:only-of-type {\n",
       "        vertical-align: middle;\n",
       "    }\n",
       "\n",
       "    .dataframe tbody tr th {\n",
       "        vertical-align: top;\n",
       "    }\n",
       "\n",
       "    .dataframe thead th {\n",
       "        text-align: right;\n",
       "    }\n",
       "</style>\n",
       "<table border=\"1\" class=\"dataframe\">\n",
       "  <thead>\n",
       "    <tr style=\"text-align: right;\">\n",
       "      <th></th>\n",
       "      <th>CO2</th>\n",
       "      <th>Precip</th>\n",
       "      <th>Soil Moisture</th>\n",
       "      <th>Bulk EC</th>\n",
       "      <th>Temp</th>\n",
       "      <th>O2</th>\n",
       "      <th>Reduction Potential</th>\n",
       "    </tr>\n",
       "  </thead>\n",
       "  <tbody>\n",
       "    <tr>\n",
       "      <th>0</th>\n",
       "      <td>0.465643</td>\n",
       "      <td>-0.38215</td>\n",
       "      <td>-0.0</td>\n",
       "      <td>-0.0</td>\n",
       "      <td>1.237480</td>\n",
       "      <td>0.842040</td>\n",
       "      <td>-0.0</td>\n",
       "    </tr>\n",
       "    <tr>\n",
       "      <th>1</th>\n",
       "      <td>0.501042</td>\n",
       "      <td>-0.38215</td>\n",
       "      <td>-0.0</td>\n",
       "      <td>-0.0</td>\n",
       "      <td>1.237480</td>\n",
       "      <td>0.783114</td>\n",
       "      <td>-0.0</td>\n",
       "    </tr>\n",
       "    <tr>\n",
       "      <th>2</th>\n",
       "      <td>0.532419</td>\n",
       "      <td>-0.38215</td>\n",
       "      <td>-0.0</td>\n",
       "      <td>-0.0</td>\n",
       "      <td>1.237480</td>\n",
       "      <td>0.783114</td>\n",
       "      <td>-0.0</td>\n",
       "    </tr>\n",
       "    <tr>\n",
       "      <th>3</th>\n",
       "      <td>0.526787</td>\n",
       "      <td>-0.38215</td>\n",
       "      <td>-0.0</td>\n",
       "      <td>-0.0</td>\n",
       "      <td>1.237480</td>\n",
       "      <td>0.783114</td>\n",
       "      <td>-0.0</td>\n",
       "    </tr>\n",
       "    <tr>\n",
       "      <th>4</th>\n",
       "      <td>0.599195</td>\n",
       "      <td>-0.38215</td>\n",
       "      <td>-0.0</td>\n",
       "      <td>-0.0</td>\n",
       "      <td>1.237480</td>\n",
       "      <td>0.737919</td>\n",
       "      <td>-0.0</td>\n",
       "    </tr>\n",
       "    <tr>\n",
       "      <th>...</th>\n",
       "      <td>...</td>\n",
       "      <td>...</td>\n",
       "      <td>...</td>\n",
       "      <td>...</td>\n",
       "      <td>...</td>\n",
       "      <td>...</td>\n",
       "      <td>...</td>\n",
       "    </tr>\n",
       "    <tr>\n",
       "      <th>1483914</th>\n",
       "      <td>-0.613406</td>\n",
       "      <td>-0.38215</td>\n",
       "      <td>-0.0</td>\n",
       "      <td>-0.0</td>\n",
       "      <td>-0.056809</td>\n",
       "      <td>0.261098</td>\n",
       "      <td>-0.0</td>\n",
       "    </tr>\n",
       "    <tr>\n",
       "      <th>1483915</th>\n",
       "      <td>-0.612652</td>\n",
       "      <td>-0.38215</td>\n",
       "      <td>-0.0</td>\n",
       "      <td>-0.0</td>\n",
       "      <td>-0.056809</td>\n",
       "      <td>0.261098</td>\n",
       "      <td>-0.0</td>\n",
       "    </tr>\n",
       "    <tr>\n",
       "      <th>1483916</th>\n",
       "      <td>-0.612730</td>\n",
       "      <td>-0.38215</td>\n",
       "      <td>-0.0</td>\n",
       "      <td>-0.0</td>\n",
       "      <td>-0.056809</td>\n",
       "      <td>0.261098</td>\n",
       "      <td>-0.0</td>\n",
       "    </tr>\n",
       "    <tr>\n",
       "      <th>1483917</th>\n",
       "      <td>-0.611573</td>\n",
       "      <td>-0.38215</td>\n",
       "      <td>-0.0</td>\n",
       "      <td>-0.0</td>\n",
       "      <td>-0.056809</td>\n",
       "      <td>0.261098</td>\n",
       "      <td>-0.0</td>\n",
       "    </tr>\n",
       "    <tr>\n",
       "      <th>1483918</th>\n",
       "      <td>-0.611918</td>\n",
       "      <td>-0.38215</td>\n",
       "      <td>-0.0</td>\n",
       "      <td>-0.0</td>\n",
       "      <td>-0.056809</td>\n",
       "      <td>0.261098</td>\n",
       "      <td>-0.0</td>\n",
       "    </tr>\n",
       "  </tbody>\n",
       "</table>\n",
       "<p>1483919 rows × 7 columns</p>\n",
       "</div>"
      ],
      "text/plain": [
       "              CO2   Precip  Soil Moisture  Bulk EC      Temp        O2  \\\n",
       "0        0.465643 -0.38215           -0.0     -0.0  1.237480  0.842040   \n",
       "1        0.501042 -0.38215           -0.0     -0.0  1.237480  0.783114   \n",
       "2        0.532419 -0.38215           -0.0     -0.0  1.237480  0.783114   \n",
       "3        0.526787 -0.38215           -0.0     -0.0  1.237480  0.783114   \n",
       "4        0.599195 -0.38215           -0.0     -0.0  1.237480  0.737919   \n",
       "...           ...      ...            ...      ...       ...       ...   \n",
       "1483914 -0.613406 -0.38215           -0.0     -0.0 -0.056809  0.261098   \n",
       "1483915 -0.612652 -0.38215           -0.0     -0.0 -0.056809  0.261098   \n",
       "1483916 -0.612730 -0.38215           -0.0     -0.0 -0.056809  0.261098   \n",
       "1483917 -0.611573 -0.38215           -0.0     -0.0 -0.056809  0.261098   \n",
       "1483918 -0.611918 -0.38215           -0.0     -0.0 -0.056809  0.261098   \n",
       "\n",
       "         Reduction Potential  \n",
       "0                       -0.0  \n",
       "1                       -0.0  \n",
       "2                       -0.0  \n",
       "3                       -0.0  \n",
       "4                       -0.0  \n",
       "...                      ...  \n",
       "1483914                 -0.0  \n",
       "1483915                 -0.0  \n",
       "1483916                 -0.0  \n",
       "1483917                 -0.0  \n",
       "1483918                 -0.0  \n",
       "\n",
       "[1483919 rows x 7 columns]"
      ]
     },
     "execution_count": 70,
     "metadata": {},
     "output_type": "execute_result"
    }
   ],
   "source": [
    "df_st1"
   ]
  },
  {
   "cell_type": "code",
   "execution_count": 21,
   "metadata": {},
   "outputs": [
    {
     "data": {
      "text/plain": [
       "PCA(n_components=0.95)"
      ]
     },
     "execution_count": 21,
     "metadata": {},
     "output_type": "execute_result"
    }
   ],
   "source": [
    "df_st1=pd.DataFrame(data=df_st)\n",
    "#df_med = df_st1.fillna(df_st1.median())\n",
    "pca = PCA(.95)\n",
    "pca.fit(df_st1)"
   ]
  },
  {
   "cell_type": "code",
   "execution_count": 23,
   "metadata": {},
   "outputs": [
    {
     "data": {
      "text/plain": [
       "array([0.35979931, 0.26275566, 0.23317821, 0.14426682])"
      ]
     },
     "execution_count": 23,
     "metadata": {},
     "output_type": "execute_result"
    }
   ],
   "source": [
    "pca.explained_variance_ratio_"
   ]
  },
  {
   "cell_type": "code",
   "execution_count": 28,
   "metadata": {},
   "outputs": [
    {
     "data": {
      "text/html": [
       "<div>\n",
       "<style scoped>\n",
       "    .dataframe tbody tr th:only-of-type {\n",
       "        vertical-align: middle;\n",
       "    }\n",
       "\n",
       "    .dataframe tbody tr th {\n",
       "        vertical-align: top;\n",
       "    }\n",
       "\n",
       "    .dataframe thead th {\n",
       "        text-align: right;\n",
       "    }\n",
       "</style>\n",
       "<table border=\"1\" class=\"dataframe\">\n",
       "  <thead>\n",
       "    <tr style=\"text-align: right;\">\n",
       "      <th></th>\n",
       "      <th>PC1</th>\n",
       "      <th>PC2</th>\n",
       "      <th>PC3</th>\n",
       "      <th>PC4</th>\n",
       "    </tr>\n",
       "    <tr>\n",
       "      <th>variable</th>\n",
       "      <th></th>\n",
       "      <th></th>\n",
       "      <th></th>\n",
       "      <th></th>\n",
       "    </tr>\n",
       "  </thead>\n",
       "  <tbody>\n",
       "    <tr>\n",
       "      <th>CO2</th>\n",
       "      <td>6.741425e-01</td>\n",
       "      <td>1.029156e-01</td>\n",
       "      <td>-2.709131e-01</td>\n",
       "      <td>6.793721e-01</td>\n",
       "    </tr>\n",
       "    <tr>\n",
       "      <th>Precip</th>\n",
       "      <td>1.561164e-01</td>\n",
       "      <td>6.829567e-01</td>\n",
       "      <td>7.131074e-01</td>\n",
       "      <td>2.599239e-02</td>\n",
       "    </tr>\n",
       "    <tr>\n",
       "      <th>SoilMoisture</th>\n",
       "      <td>-1.110223e-16</td>\n",
       "      <td>5.606626e-15</td>\n",
       "      <td>2.109424e-15</td>\n",
       "      <td>1.387779e-16</td>\n",
       "    </tr>\n",
       "    <tr>\n",
       "      <th>BulkEC</th>\n",
       "      <td>-0.000000e+00</td>\n",
       "      <td>0.000000e+00</td>\n",
       "      <td>-0.000000e+00</td>\n",
       "      <td>0.000000e+00</td>\n",
       "    </tr>\n",
       "    <tr>\n",
       "      <th>Temp</th>\n",
       "      <td>6.975681e-01</td>\n",
       "      <td>-6.025400e-02</td>\n",
       "      <td>-6.910603e-02</td>\n",
       "      <td>-7.106282e-01</td>\n",
       "    </tr>\n",
       "    <tr>\n",
       "      <th>O2</th>\n",
       "      <td>1.858986e-01</td>\n",
       "      <td>-7.206580e-01</td>\n",
       "      <td>6.428906e-01</td>\n",
       "      <td>1.810677e-01</td>\n",
       "    </tr>\n",
       "    <tr>\n",
       "      <th>ReductionPotential</th>\n",
       "      <td>0.000000e+00</td>\n",
       "      <td>0.000000e+00</td>\n",
       "      <td>-0.000000e+00</td>\n",
       "      <td>0.000000e+00</td>\n",
       "    </tr>\n",
       "  </tbody>\n",
       "</table>\n",
       "</div>"
      ],
      "text/plain": [
       "                             PC1           PC2           PC3           PC4\n",
       "variable                                                                  \n",
       "CO2                 6.741425e-01  1.029156e-01 -2.709131e-01  6.793721e-01\n",
       "Precip              1.561164e-01  6.829567e-01  7.131074e-01  2.599239e-02\n",
       "SoilMoisture       -1.110223e-16  5.606626e-15  2.109424e-15  1.387779e-16\n",
       "BulkEC             -0.000000e+00  0.000000e+00 -0.000000e+00  0.000000e+00\n",
       "Temp                6.975681e-01 -6.025400e-02 -6.910603e-02 -7.106282e-01\n",
       "O2                  1.858986e-01 -7.206580e-01  6.428906e-01  1.810677e-01\n",
       "ReductionPotential  0.000000e+00  0.000000e+00 -0.000000e+00  0.000000e+00"
      ]
     },
     "execution_count": 28,
     "metadata": {},
     "output_type": "execute_result"
    }
   ],
   "source": [
    "pca_out=pca\n",
    "loadings = pca_out.components_\n",
    "num_pc = pca_out.n_features_\n",
    "pc_list = [\"PC\"+str(i) for i in list(range(1, num_pc+1))]\n",
    "loadings_df = pd.DataFrame.from_dict(dict(zip(pc_list, loadings)))\n",
    "loadings_df['variable'] = df.columns.values\n",
    "loadings_df = loadings_df.set_index('variable')\n",
    "loadings_df"
   ]
  },
  {
   "cell_type": "code",
   "execution_count": 29,
   "metadata": {},
   "outputs": [
    {
     "data": {
      "image/png": "[encoded data removed]",
      "text/plain": [
       "<Figure size 432x288 with 2 Axes>"
      ]
     },
     "metadata": {
      "needs_background": "light"
     },
     "output_type": "display_data"
    }
   ],
   "source": [
    "import seaborn as sns\n",
    "import matplotlib.pyplot as plt\n",
    "ax = sns.heatmap(loadings_df, annot=True, cmap='Spectral')\n",
    "plt.show()"
   ]
  },
  {
   "cell_type": "code",
   "execution_count": 71,
   "metadata": {},
   "outputs": [],
   "source": [
    "pca_scores = PCA().fit_transform(df_st1)"
   ]
  },
  {
   "cell_type": "code",
   "execution_count": 72,
   "metadata": {},
   "outputs": [],
   "source": [
    "import bioinfokit\n",
    "from bioinfokit.visuz import cluster\n",
    "cluster.biplot(cscore=pca_scores, loadings=loadings, labels=df.columns.values, var1=round(pca_out.explained_variance_ratio_[0]*100, 2),\n",
    "var2=round(pca_out.explained_variance_ratio_[1]*100, 2))"
   ]
  },
  {
   "cell_type": "code",
   "execution_count": 73,
   "metadata": {},
   "outputs": [],
   "source": [
    "cluster.biplot(cscore=pca_scores, loadings=loadings, labels=df.columns.values, \n",
    "    var1=round(pca_out.explained_variance_ratio_[0]*100, 2), var2=round(pca_out.explained_variance_ratio_[1]*100, 2), \n",
    "    var3=round(pca_out.explained_variance_ratio_[2]*100, 2))"
   ]
  },
  {
   "cell_type": "code",
   "execution_count": 44,
   "metadata": {},
   "outputs": [],
   "source": [
    "df_st1.columns=['CO2', 'Precip','Soil Moisture', 'Bulk EC', 'Temp', 'O2', 'Reduction Potential']"
   ]
  },
  {
   "cell_type": "code",
   "execution_count": 45,
   "metadata": {},
   "outputs": [
    {
     "data": {
      "text/plain": [
       "0.062402694413982274"
      ]
     },
     "execution_count": 45,
     "metadata": {},
     "output_type": "execute_result"
    }
   ],
   "source": [
    "from sklearn.model_selection import train_test_split\n",
    "\n",
    "X=df_st1[['Precip', 'Soil Moisture', 'Bulk EC', 'Temp', 'O2', 'Reduction Potential']]  # Features\\n\",\n",
    "y=df_st1['CO2']  # Labels\\n\",\n",
    "\n",
    "# Split dataset into training set and test set\n",
    "X_train, X_test, y_train, y_test = train_test_split(X, y, test_size=0.3)\n",
    "from sklearn.svm import LinearSVR\n",
    "from sklearn import svm\n",
    "regr = svm.LinearSVR(max_iter=5000)\n",
    "regr.fit(X_train, y_train)\n",
    "from sklearn import metrics\n",
    "regr.score(X_test, y_test)"
   ]
  },
  {
   "cell_type": "code",
   "execution_count": null,
   "metadata": {},
   "outputs": [],
   "source": []
  }
 ],
 "metadata": {
  "kernelspec": {
   "display_name": "Python 3",
   "language": "python",
   "name": "python3"
  },
  "language_info": {
   "codemirror_mode": {
    "name": "ipython",
    "version": 3
   },
   "file_extension": ".py",
   "mimetype": "text/x-python",
   "name": "python",
   "nbconvert_exporter": "python",
   "pygments_lexer": "ipython3",
   "version": "3.8.5"
  }
 },
 "nbformat": 4,
 "nbformat_minor": 4
}
